{
 "cells": [
  {
   "cell_type": "markdown",
   "metadata": {},
   "source": [
    "Fisher Matrix for shear and rotation"
   ]
  },
  {
   "cell_type": "code",
   "execution_count": 4,
   "metadata": {},
   "outputs": [],
   "source": [
    "import sys\n",
    "import os\n",
    "import math\n",
    "import galsim\n",
    "import matplotlib.pyplot as plt\n",
    "import numpy as np"
   ]
  },
  {
   "cell_type": "code",
   "execution_count": 171,
   "metadata": {},
   "outputs": [],
   "source": [
    "dinc = 43 #delta inclination 1 degree\n",
    "incvalue = 0 #inclination value\n",
    "\n",
    "inc0 = galsim.Angle(incvalue,unit=galsim.degrees)\n",
    "gal0 = galsim.InclinedExponential(inc0,scale_radius=2,flux=1e5)\n",
    "image0 = gal0.drawImage(image=galsim.Image(500,500), scale=0.1)\n",
    "\n",
    "\n",
    "inc1 = galsim.Angle(dinc+incvalue,unit=galsim.degrees)\n",
    "gal1 = galsim.InclinedExponential(inc1,scale_radius=2,flux=1e5)\n",
    "image1 = gal1.drawImage(image=galsim.Image(500,500), scale=0.1)\n",
    "\n",
    "g=0.16\n",
    "\n",
    "gal2 = gal0.shear(g1=g,g2=0.0)\n",
    "image2 = gal2.drawImage(image=galsim.Image(500,500),scale=0.1)\n",
    "\n",
    "gal3 = gal0.shear(g1=0.0,g2=g)\n",
    "image3 = gal3.drawImage(image=galsim.Image(500,500),scale=0.1)\n"
   ]
  },
  {
   "cell_type": "code",
   "execution_count": 172,
   "metadata": {},
   "outputs": [],
   "source": [
    "\n",
    "dtetha = np.array((image1.array-image0.array)/dinc)\n",
    "dg1 = np.array((image2.array-image0.array)/g)\n",
    "dg2 = np.array((image3.array-image0.array)/g)\n",
    "\n",
    "C_g1g1=dg1*dg1\n",
    "C_tt = dtetha*dtetha\n",
    "C_g2g2 = dg2*dg2\n",
    "C_g1t = dg1*dtetha\n",
    "C_g2t = dg2*dtetha\n",
    "C_g2g1 = dg1*dg2"
   ]
  },
  {
   "cell_type": "code",
   "execution_count": 173,
   "metadata": {},
   "outputs": [],
   "source": [
    "F = [[np.sum(C_g1g1),np.sum(C_g2g1),np.sum(C_g1t)],\n",
    "     [np.sum(C_g2g1),np.sum(C_g2g2),np.sum(C_g2t)],\n",
    "    [np.sum(C_g1t),np.sum(C_g2t),np.sum(C_tt)]]"
   ]
  },
  {
   "cell_type": "code",
   "execution_count": 174,
   "metadata": {},
   "outputs": [
    {
     "name": "stdout",
     "output_type": "stream",
     "text": [
      "[[0.00140754        nan        nan]\n",
      " [       nan 0.0011542  0.00359737]\n",
      " [       nan 0.00359737 0.21152666]]\n"
     ]
    },
    {
     "name": "stderr",
     "output_type": "stream",
     "text": [
      "/anaconda2/lib/python2.7/site-packages/ipykernel_launcher.py:1: RuntimeWarning: invalid value encountered in sqrt\n",
      "  \"\"\"Entry point for launching an IPython kernel.\n"
     ]
    }
   ],
   "source": [
    "print np.sqrt(np.linalg.inv(F))"
   ]
  },
  {
   "cell_type": "code",
   "execution_count": 175,
   "metadata": {},
   "outputs": [
    {
     "name": "stdout",
     "output_type": "stream",
     "text": [
      "[[ 1.         -0.9963046  -0.9999781 ]\n",
      " [-0.9963046   1.          0.99571439]\n",
      " [-0.9999781   0.99571439  1.        ]]\n"
     ]
    }
   ],
   "source": [
    "print np.corrcoef(np.linalg.inv(F))"
   ]
  },
  {
   "cell_type": "code",
   "execution_count": null,
   "metadata": {},
   "outputs": [],
   "source": []
  }
 ],
 "metadata": {
  "kernelspec": {
   "display_name": "Python 2",
   "language": "python",
   "name": "python2"
  },
  "language_info": {
   "codemirror_mode": {
    "name": "ipython",
    "version": 2
   },
   "file_extension": ".py",
   "mimetype": "text/x-python",
   "name": "python",
   "nbconvert_exporter": "python",
   "pygments_lexer": "ipython2",
   "version": "2.7.15"
  }
 },
 "nbformat": 4,
 "nbformat_minor": 2
}

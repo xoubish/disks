{
 "cells": [
  {
   "cell_type": "markdown",
   "metadata": {},
   "source": [
    "# Converting galaxy cutouts to MNIST format"
   ]
  },
  {
   "cell_type": "code",
   "execution_count": 3,
   "metadata": {},
   "outputs": [
    {
     "ename": "TypeError",
     "evalue": "can only append array (not \"list\") to array",
     "output_type": "error",
     "traceback": [
      "\u001b[0;31m---------------------------------------------------------------------------\u001b[0m",
      "\u001b[0;31mTypeError\u001b[0m                                 Traceback (most recent call last)",
      "\u001b[0;32m<ipython-input-3-be35e82c1a21>\u001b[0m in \u001b[0;36m<module>\u001b[0;34m\u001b[0m\n\u001b[1;32m     57\u001b[0m     \u001b[0mheader\u001b[0m\u001b[0;34m[\u001b[0m\u001b[0;36m3\u001b[0m\u001b[0;34m]\u001b[0m \u001b[0;34m=\u001b[0m \u001b[0;36m3\u001b[0m \u001b[0;31m# Changing MSB for image data (0x00000803)\u001b[0m\u001b[0;34m\u001b[0m\u001b[0;34m\u001b[0m\u001b[0m\n\u001b[1;32m     58\u001b[0m \u001b[0;34m\u001b[0m\u001b[0m\n\u001b[0;32m---> 59\u001b[0;31m     \u001b[0mdata_image\u001b[0m \u001b[0;34m=\u001b[0m \u001b[0mheader\u001b[0m \u001b[0;34m+\u001b[0m \u001b[0mdata_image\u001b[0m\u001b[0;34m\u001b[0m\u001b[0;34m\u001b[0m\u001b[0m\n\u001b[0m\u001b[1;32m     60\u001b[0m \u001b[0;34m\u001b[0m\u001b[0m\n\u001b[1;32m     61\u001b[0m     \u001b[0moutput_file\u001b[0m \u001b[0;34m=\u001b[0m \u001b[0mopen\u001b[0m\u001b[0;34m(\u001b[0m\u001b[0mname\u001b[0m\u001b[0;34m[\u001b[0m\u001b[0;36m1\u001b[0m\u001b[0;34m]\u001b[0m\u001b[0;34m+\u001b[0m\u001b[0;34m'-images-idx3-ubyte'\u001b[0m\u001b[0;34m,\u001b[0m \u001b[0;34m'wb'\u001b[0m\u001b[0;34m)\u001b[0m\u001b[0;34m\u001b[0m\u001b[0;34m\u001b[0m\u001b[0m\n",
      "\u001b[0;31mTypeError\u001b[0m: can only append array (not \"list\") to array"
     ]
    }
   ],
   "source": [
    "import os\n",
    "from PIL import Image\n",
    "from array import *\n",
    "from random import shuffle\n",
    "import matplotlib.pyplot as plt\n",
    "%matplotlib inline\n",
    "\n",
    "# Load from and save to\n",
    "Names = [['images/training_images','train'], ['images/test_images','test']]\n",
    "\n",
    "for name in Names:\n",
    "\n",
    "    data_image = array('B')\n",
    "    data_label = array('B')\n",
    "    FileList = []\n",
    "    for dirname in os.listdir(name[0])[1:]: # [1:] Excludes .DS_Store from Mac OS\n",
    "\n",
    "        path = os.path.join(name[0],dirname)\n",
    "        for filename in os.listdir(path):\n",
    "\n",
    "            if filename.endswith(\".jpg\"):\n",
    "                FileList.append(os.path.join(name[0],dirname,filename))\n",
    "\n",
    "    shuffle(FileList) # Usefull for further segmenting the validation set\n",
    "\n",
    "    for filename in FileList:\n",
    "\n",
    "        label = int(filename.split('/')[2])\n",
    "        Im = Image.open(filename)\n",
    " \n",
    "        print(Im.size)\n",
    "        #plt.imshow(Im)\n",
    "        pixel = Im.load()\n",
    "        width, height = Im.size\n",
    "\n",
    "        for x in range(0,width):\n",
    "            for y in range(0,height):\n",
    "                data_image.append(pixel[y,x])\n",
    "\n",
    "        data_label.append(label) # labels start (one unsigned byte each)\n",
    "\n",
    "    hexval = \"{0:#0{1}x}\".format(len(FileList),6) # number of files in HEX\n",
    "\n",
    "    # header for label array\n",
    "\n",
    "    header = array('B')\n",
    "    header.extend([0,0,8,1,0,0])\n",
    "    header.append(int('0x'+hexval[2:][:2],16))\n",
    "    header.append(int('0x'+hexval[2:][2:],16))\n",
    "    \n",
    "    data_label = header + data_label\n",
    "\n",
    "    # additional header for images array\n",
    "\n",
    "    if max([width,height]) <= 256:\n",
    "        header.extend([0,0,0,width,0,0,0,height])\n",
    "    else:\n",
    "        raise ValueError('Image exceeds maximum size: 256x256 pixels');\n",
    "\n",
    "    header[3] = 3 # Changing MSB for image data (0x00000803)\n",
    "    \n",
    "    data_image = header + data_image\n",
    "\n",
    "    output_file = open(name[1]+'-images-idx3-ubyte', 'wb')\n",
    "    data_image.tofile(output_file)\n",
    "    output_file.close()\n",
    "\n",
    "    output_file = open(name[1]+'-labels-idx1-ubyte', 'wb')\n",
    "    data_label.tofile(output_file)\n",
    "    output_file.close()\n",
    "\n",
    "# gzip resulting files\n",
    "\n",
    "for name in Names:\n",
    "    os.system('gzip '+name[1]+'-images-idx3-ubyte')\n",
    "    os.system('gzip '+name[1]+'-labels-idx1-ubyte')"
   ]
  },
  {
   "cell_type": "code",
   "execution_count": null,
   "metadata": {},
   "outputs": [],
   "source": []
  }
 ],
 "metadata": {
  "kernelspec": {
   "display_name": "Python 3",
   "language": "python",
   "name": "python3"
  },
  "language_info": {
   "codemirror_mode": {
    "name": "ipython",
    "version": 3
   },
   "file_extension": ".py",
   "mimetype": "text/x-python",
   "name": "python",
   "nbconvert_exporter": "python",
   "pygments_lexer": "ipython3",
   "version": "3.7.3"
  }
 },
 "nbformat": 4,
 "nbformat_minor": 4
}

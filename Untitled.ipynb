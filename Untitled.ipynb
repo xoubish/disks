{
 "cells": [
  {
   "cell_type": "markdown",
   "metadata": {},
   "source": [
    "Testing different convolutions "
   ]
  },
  {
   "cell_type": "code",
   "execution_count": 5,
   "metadata": {},
   "outputs": [],
   "source": [
    "from __future__ import print_function\n",
    "import os\n",
    "import random\n",
    "import torch\n",
    "import torch.nn as nn\n",
    "import torch.nn.parallel\n",
    "import torch.backends.cudnn as cudnn\n",
    "import torch.optim as optim\n",
    "import torch.utils.data\n",
    "import torchvision.datasets as dset\n",
    "import torchvision.transforms as transforms\n",
    "import torchvision.utils as vutils\n",
    "import torch.nn.functional as F\n",
    "from photutils import create_matching_kernel\n",
    "\n",
    "\n",
    "from astropy.convolution import convolve_fft as convolve\n",
    "import astropy.io.fits as pyfits\n",
    "import numpy as np\n",
    "import matplotlib.pyplot as plt\n",
    "import scipy.signal\n",
    "from skimage.transform import downscale_local_mean\n",
    "\n",
    "import warnings\n",
    "warnings.filterwarnings('ignore')\n",
    "# initializing parameters:\n",
    "\n",
    "psf = pyfits.getdata('psf_i.fits')\n",
    "psf = downscale_local_mean(psf,(3,3))\n",
    "psf = psf[7:-8,7:-8]#[22:-22,22:-22]\n",
    "psf_hsc = pyfits.getdata('psf-calexp-s16a_wide-HSC-I-15827-7,2-236.00000-42.00000.fits')\n",
    "psf_hsc = psf_hsc[0:41,1:42]\n",
    "kern = create_matching_kernel(psf,psf_hsc)\n",
    "psfh = np.repeat(kern[:,:, np.newaxis], 1, axis=2)\n",
    "psfh = np.repeat(psfh[:,:,:,np.newaxis],1,axis = 3)\n",
    "kernel = torch.Tensor(psfh)\n",
    "kernel = kernel.permute(2,3,0,1)\n",
    "kernel =  kernel.float()\n",
    "\n",
    "\n",
    "dataroot = 'gals_galsim/' # path to dataset\n",
    "workers = 4\n",
    "batchSize = 64           # input batch size\n",
    "imageSize = 64           # the height / width of the input image to network\n",
    "ngf = 64\n",
    "ndf = 64\n",
    "nz = 100\n",
    "ngpu = 3       #number of GPUs to use\n",
    "netG = ''\n",
    "manualSeed = random.randint(1, 10000)\n",
    "\n",
    "torch.manual_seed(manualSeed)\n",
    "device = torch.device(\"cpu\")\n",
    "\n",
    "nc = 1"
   ]
  },
  {
   "cell_type": "code",
   "execution_count": 6,
   "metadata": {},
   "outputs": [],
   "source": [
    "### read in an image with HST resoluion and downgrade (resample, PSF convolve, add noise) to HSC \n",
    "dataset = dset.MNIST(root=dataroot, download=True, transform=transforms.Compose([transforms.Resize(imageSize),transforms.ToTensor(),transforms.Normalize((0.5,), (0.5,)),]))\n",
    "assert dataset\n",
    "dataloader = torch.utils.data.DataLoader(dataset, batch_size=1, shuffle=True, num_workers=int(workers))\n",
    "\n",
    "inputs, classes = next(iter(dataloader))  \n",
    "real_cpu = inputs.to(device)\n",
    "ajab = real_cpu.detach()\n",
    "ajab = ajab.cpu()\n",
    "\n",
    "im = real_cpu+0.25*torch.rand_like(real_cpu)\n",
    "downsampled = F.upsample(im,scale_factor=1/3,mode='bilinear')\n",
    "img = F.conv2d(downsampled, kernel,padding=int(((kernel.shape[3])-1)/2))\n",
    "img = img[:,:,:,:]\n"
   ]
  },
  {
   "cell_type": "code",
   "execution_count": 47,
   "metadata": {},
   "outputs": [
    {
     "name": "stdout",
     "output_type": "stream",
     "text": [
      "torch.Size([1, 1, 21, 21]) torch.Size([1, 1, 65, 65])\n"
     ]
    },
    {
     "data": {
      "text/plain": [
       "<matplotlib.image.AxesImage at 0x1c25d926a0>"
      ]
     },
     "execution_count": 47,
     "metadata": {},
     "output_type": "execute_result"
    },
    {
     "data": {
      "image/png": "[encoded data removed]",
      "text/plain": [
       "<Figure size 432x288 with 2 Axes>"
      ]
     },
     "metadata": {
      "needs_background": "light"
     },
     "output_type": "display_data"
    }
   ],
   "source": [
    "plt.subplot(1,2,1)\n",
    "plt.imshow(img[0,0,:,:],origin='lower')\n",
    "\n",
    "F = nn.ConvTranspose2d( 1, 1, 27, 2, 1, bias=False)\n",
    "a = F(img)\n",
    "print(img.shape,a.shape)\n",
    "aj = a.detach()\n",
    "plt.subplot(1,2,2)\n",
    "plt.imshow(aj[0,0,:,:],origin='lower')"
   ]
  },
  {
   "cell_type": "code",
   "execution_count": 11,
   "metadata": {},
   "outputs": [],
   "source": [
    "\n"
   ]
  },
  {
   "cell_type": "code",
   "execution_count": 12,
   "metadata": {},
   "outputs": [
    {
     "name": "stdout",
     "output_type": "stream",
     "text": [
      "tensor([[[[ 9.7613e-04,  2.0755e-03,  2.4251e-03,  ..., -3.3391e-03,\n",
      "           -2.5442e-03,  9.6747e-05],\n",
      "          [ 1.4402e-03,  1.5863e-03,  1.0162e-03,  ..., -4.0621e-03,\n",
      "           -4.0275e-03, -8.2746e-04],\n",
      "          [ 2.4224e-03,  1.5847e-03,  6.4311e-04,  ..., -3.2386e-03,\n",
      "           -4.7270e-03, -2.1995e-03],\n",
      "          ...,\n",
      "          [ 2.8316e-03,  4.5871e-04, -4.8040e-04,  ...,  5.9090e-04,\n",
      "           -8.5353e-04, -2.5855e-03],\n",
      "          [ 2.7908e-03,  3.9864e-04,  2.1132e-05,  ..., -2.3912e-04,\n",
      "           -1.2525e-03, -2.8110e-03],\n",
      "          [ 2.8273e-03,  9.8010e-04,  7.4670e-04,  ...,  1.0642e-03,\n",
      "            2.9670e-04, -8.7963e-04]],\n",
      "\n",
      "         [[ 9.5423e-04,  2.6316e-03,  3.2821e-03,  ...,  3.3153e-05,\n",
      "           -4.5207e-04, -5.3377e-04],\n",
      "          [ 2.0096e-03,  2.8417e-03,  2.3447e-03,  ...,  5.7493e-04,\n",
      "           -3.8952e-04, -4.8698e-04],\n",
      "          [ 2.5273e-03,  2.4134e-03,  1.8268e-03,  ...,  6.0999e-04,\n",
      "           -3.8160e-04, -2.9036e-05],\n",
      "          ...,\n",
      "          [ 2.1676e-03,  1.9041e-03,  1.4723e-03,  ...,  1.9499e-03,\n",
      "            1.0431e-03, -4.6799e-04],\n",
      "          [ 1.8424e-03,  1.1442e-03,  1.2040e-03,  ...,  1.7517e-03,\n",
      "            9.4630e-04, -1.3045e-04],\n",
      "          [ 8.9548e-04, -3.7982e-04, -7.5098e-04,  ..., -9.9320e-04,\n",
      "           -1.0923e-03, -9.4311e-04]],\n",
      "\n",
      "         [[-4.9928e-04, -2.0855e-03, -3.2362e-03,  ..., -1.1705e-04,\n",
      "            7.3986e-04,  1.3127e-03],\n",
      "          [-2.0391e-03, -3.3075e-03, -3.7435e-03,  ...,  5.3986e-04,\n",
      "            1.2874e-03,  1.3579e-03],\n",
      "          [-3.3428e-03, -3.2897e-03, -2.8697e-03,  ...,  7.9083e-04,\n",
      "            1.7807e-03,  1.0162e-03],\n",
      "          ...,\n",
      "          [-4.9209e-03, -3.5328e-03, -1.6002e-03,  ..., -4.1343e-03,\n",
      "           -2.5416e-03,  4.0813e-04],\n",
      "          [-4.3338e-03, -3.0311e-03, -1.5102e-03,  ..., -3.5012e-03,\n",
      "           -1.7994e-03,  6.1114e-04],\n",
      "          [-3.4291e-03, -1.8807e-03, -1.9590e-03,  ..., -1.9447e-03,\n",
      "           -8.0632e-04,  1.0350e-03]],\n",
      "\n",
      "         ...,\n",
      "\n",
      "         [[-1.1025e-03, -1.9814e-03, -2.3135e-03,  ...,  1.3015e-03,\n",
      "            2.4207e-03,  1.6711e-03],\n",
      "          [-2.4053e-03, -1.8462e-03, -1.9245e-03,  ...,  9.0377e-05,\n",
      "            2.7336e-03,  2.7063e-03],\n",
      "          [-3.2999e-03, -2.3344e-03, -2.7141e-03,  ..., -1.3948e-03,\n",
      "            1.7122e-03,  2.8133e-03],\n",
      "          ...,\n",
      "          [-4.0953e-03, -3.7052e-03, -3.3254e-03,  ..., -4.7621e-03,\n",
      "           -4.3314e-03, -2.6187e-03],\n",
      "          [-3.9295e-03, -3.3520e-03, -3.0278e-03,  ..., -3.3144e-03,\n",
      "           -3.2434e-03, -2.4089e-03],\n",
      "          [-2.4038e-03, -2.5492e-03, -2.3279e-03,  ..., -1.9733e-03,\n",
      "           -1.7648e-03, -1.4462e-03]],\n",
      "\n",
      "         [[ 1.8299e-04,  1.2652e-03,  1.4822e-03,  ...,  2.8973e-04,\n",
      "           -5.4558e-05, -9.5483e-04],\n",
      "          [ 1.4121e-03,  2.4356e-03,  2.1104e-03,  ..., -5.2606e-04,\n",
      "           -4.2943e-04, -7.7500e-04],\n",
      "          [ 1.8504e-03,  1.7304e-03,  1.2003e-03,  ..., -1.3040e-03,\n",
      "           -1.0742e-03, -4.2731e-04],\n",
      "          ...,\n",
      "          [ 2.4169e-03,  1.1420e-03, -4.4161e-04,  ...,  1.5722e-03,\n",
      "            6.4786e-05, -2.1355e-03],\n",
      "          [ 2.2089e-03,  6.6128e-04, -8.4727e-04,  ...,  1.3484e-03,\n",
      "           -2.4525e-04, -1.6356e-03],\n",
      "          [ 1.5229e-03, -4.6832e-04, -8.7387e-04,  ..., -6.3434e-04,\n",
      "           -1.6117e-03, -2.4186e-03]],\n",
      "\n",
      "         [[-1.5809e-04, -7.6022e-04, -5.3309e-04,  ...,  2.5628e-03,\n",
      "            7.3893e-04, -1.0697e-03],\n",
      "          [-4.9418e-04, -3.3863e-04,  5.3699e-04,  ...,  4.4550e-03,\n",
      "            2.5476e-03, -8.8694e-04],\n",
      "          [-6.9662e-04,  6.5490e-04,  1.5680e-03,  ...,  5.3739e-03,\n",
      "            4.4634e-03, -8.3632e-06],\n",
      "          ...,\n",
      "          [-7.3520e-04,  2.1053e-03,  3.2636e-03,  ...,  1.7313e-03,\n",
      "            3.4860e-03,  5.6209e-03],\n",
      "          [-9.1825e-04,  2.1842e-03,  2.7438e-03,  ...,  2.5688e-03,\n",
      "            3.7782e-03,  4.6555e-03],\n",
      "          [-2.0532e-03,  5.0992e-04,  2.0600e-04,  ...,  9.7870e-04,\n",
      "            1.9715e-03,  2.8896e-03]]]], grad_fn=<ThnnConvTranspose2DBackward>)\n"
     ]
    }
   ],
   "source": []
  },
  {
   "cell_type": "code",
   "execution_count": null,
   "metadata": {},
   "outputs": [],
   "source": []
  }
 ],
 "metadata": {
  "kernelspec": {
   "display_name": "Python 3",
   "language": "python",
   "name": "python3"
  },
  "language_info": {
   "codemirror_mode": {
    "name": "ipython",
    "version": 3
   },
   "file_extension": ".py",
   "mimetype": "text/x-python",
   "name": "python",
   "nbconvert_exporter": "python",
   "pygments_lexer": "ipython3",
   "version": "3.7.3"
  }
 },
 "nbformat": 4,
 "nbformat_minor": 2
}

{
 "cells": [
  {
   "cell_type": "markdown",
   "metadata": {},
   "source": [
    "# Making the trainig sample from CANDELS GOODS-S \n",
    "\n",
    "By Shooby, last edited July29 2019\n",
    "\n"
   ]
  },
  {
   "cell_type": "code",
   "execution_count": 1,
   "metadata": {},
   "outputs": [],
   "source": [
    "import numpy as np\n",
    "import astropy.io.fits as pyfits\n",
    "import matplotlib.pyplot as plt\n",
    "import astropy.wcs as wcs\n",
    "from astropy import units as u\n",
    "from astropy.coordinates import SkyCoord\n",
    "from scipy import ndimage\n",
    "from PIL import Image\n",
    "\n",
    "\n",
    "%matplotlib inline"
   ]
  },
  {
   "cell_type": "code",
   "execution_count": 2,
   "metadata": {},
   "outputs": [],
   "source": [
    "gs = pyfits.getdata('../../WFIRST_WPS/CANDELS_fits/gds.fits')\n",
    "gn = pyfits.getdata('../../WFIRST_WPS/CANDELS_fits/gdn.fits')\n"
   ]
  },
  {
   "cell_type": "code",
   "execution_count": 3,
   "metadata": {},
   "outputs": [
    {
     "name": "stdout",
     "output_type": "stream",
     "text": [
      "2741 3298\n"
     ]
    }
   ],
   "source": [
    "sel1 = (gs['zbest']>0.01)&(gs['zbest']<1.)&(gs['CLASS_STAR']<0.85)&(gs['Hmag']<25)&(gs['ISOAREA_IMAGE_F160W']>=50)#&(gs['B_IMAGE_1']/gs['A_IMAGE_1']>0.75)\n",
    "sel2 = (gn['zbest']>0.01)&(gn['zbest']<1.)&(gn['CLASS_STAR']<0.85)&(gn['Hmag']<25)&(gn['ISOAREA_IMAGE_F160W']>=50)#&(gn['B_IMAGE']/gn['A_IMAGE']>0.75)\n",
    "\n",
    "\n",
    "print (len(gs[sel1]),len(gn[sel2]))\n"
   ]
  },
  {
   "cell_type": "code",
   "execution_count": 4,
   "metadata": {},
   "outputs": [],
   "source": [
    "def radec2xy(ra,dec,wc):\n",
    "    coords = SkyCoord(ra,dec, unit='deg')\n",
    "    a=wcs.utils.skycoord_to_pixel(coords, wc, origin=0,mode=u'wcs')\n",
    "    return a[0],a[1]\n",
    "    \n",
    "def cut(ra,dec,andaze,filename):\n",
    "    '''gets coordinates of the galaxy and the filter to return a cutout\n",
    "    (also called a postage stamp) of the galaxy with given size'''\n",
    "    hdr = pyfits.getheader(filename)\n",
    "    w = wcs.WCS(hdr)\n",
    "    x,y=radec2xy(ra,dec,w)\n",
    "    x,y=np.int(x),np.int(y)\n",
    "    im=pyfits.getdata(filename)[y-andaze:y+andaze,x-andaze:x+andaze]\n",
    "    return im\n",
    "\n",
    "def segment(a1,above_mean=1.1,add_image_back=0.3,random_noise=0.2):\n",
    "    '''Returns segmentation of an image by some filtering of lower level \n",
    "    noises, to restrict the fitting to the galaxy itself and mask the \n",
    "    surroundings'''\n",
    "    im2=ndimage.gaussian_filter(a1, 2)\n",
    "    mask = (im2 > above_mean*im2.mean()).astype(np.float)\n",
    "    mask += add_image_back * im2\n",
    "    img = mask + random_noise*np.random.randn(*mask.shape)\n",
    "    hist, bin_edges = np.histogram(img, bins=60)\n",
    "    bin_centers = 0.5*(bin_edges[:-1] + bin_edges[1:])\n",
    "    binary_im = img > random_noise\n",
    "    open_img = ndimage.binary_opening(binary_im)\n",
    "    close_img = ndimage.binary_closing(open_img)\n",
    "    return close_img"
   ]
  },
  {
   "cell_type": "code",
   "execution_count": 5,
   "metadata": {},
   "outputs": [],
   "source": [
    "ra1,dec1=gs['RA_1'][sel1],gs['DEC_1'][sel1]\n",
    "im1 = cut(ra1[20],dec1[20],32,'/Users/shemmati/Desktop/GOODS/goodss_all_acs_wfc_f606w_060mas_v1.5_drz.fits')\n",
    "pyfits.writeto('gal_cutout.fits',im1,overwrite='True')"
   ]
  },
  {
   "cell_type": "code",
   "execution_count": 8,
   "metadata": {},
   "outputs": [],
   "source": [
    "ra1,dec1=gs['RA_1'][sel1],gs['DEC_1'][sel1]\n",
    "ra2,dec2=gn['RA_1'][sel2],gn['DEC_1'][sel2]\n",
    "\n",
    "im = np.zeros([64,64])\n",
    "for boz in range(2000):\n",
    "    data = cut(ra1[boz],dec1[boz],32,'/Users/shemmati/Desktop/GOODS/goodss_all_acs_wfc_f606w_060mas_v1.5_drz.fits')\n",
    "    data = np.tanh(data)\n",
    "    rescaled = (255.0 / (data.max()+0.1) * (data - data.min())).astype(np.uint8)\n",
    "    im = Image.fromarray(rescaled)\n",
    "    im.save('images/training_images/1/'+str(boz)+'.jpg')\n",
    "    \n",
    "    data = cut(ra1[boz],dec1[boz],32,'/Users/shemmati/Desktop/GOODS/goodss_all_acs_wfc_f435w_060mas_v1.5_drz.fits')\n",
    "    data = np.tanh(data)\n",
    "    rescaled = (255.0 / (data.max()+0.1) * (data - data.min())).astype(np.uint8)\n",
    "    im = Image.fromarray(rescaled)\n",
    "    im.save('images/training_images/2/'+str(boz)+'.jpg')\n",
    "\n",
    "# for boz in range(2000):\n",
    "#     data = cut(ra2[boz],dec2[boz],32,'/Users/shemmati/Downloads/goodsn_all_acs_wfc_f435w_060mas_v1.3_drz.fits')\n",
    "#     data = np.tanh(data)\n",
    "#     rescaled = (255.0 / (data.max()+0.1) * (data - data.min())).astype(np.uint8)\n",
    "#     im = Image.fromarray(rescaled)\n",
    "#     im.save('images/training_images/2/'+str(boz)+'_n.jpg')\n",
    "    \n",
    "#     data = cut(ra2[boz],dec2[boz],32,'/Users/shemmati/Downloads/goodsn_all_acs_wfc_f606w_060mas_v2.0_drz.fits')\n",
    "#     data = np.tanh(data)\n",
    "#     rescaled = (255.0 / (data.max()+0.1) * (data - data.min())).astype(np.uint8)\n",
    "#     im = Image.fromarray(rescaled)\n",
    "#     im.save('images/training_images/1/'+str(boz)+'_n.jpg')\n",
    "    \n",
    "\n",
    "\n",
    "    #stop\n",
    "    "
   ]
  },
  {
   "cell_type": "code",
   "execution_count": null,
   "metadata": {},
   "outputs": [],
   "source": [
    "im = np.zeros([64,64])\n",
    "for boz in range(2000,2700):\n",
    "    data = cut(ra1[boz],dec1[boz],32,'/Users/shemmati/Desktop/GOODS/goodss_all_acs_wfc_f606w_060mas_v1.5_drz.fits')\n",
    "    data = np.tanh(data)\n",
    "    rescaled = (255.0 / (data.max()+0.1) * (data - data.min())).astype(np.uint8)\n",
    "    im = Image.fromarray(rescaled)\n",
    "    im.save('images/test_images/1/'+str(boz)+'.jpg')\n",
    "    \n",
    "    data = cut(ra1[boz],dec1[boz],32,'/Users/shemmati/Desktop/GOODS/goodss_all_acs_wfc_f435w_060mas_v1.5_drz.fits')\n",
    "    data = np.tanh(data)\n",
    "    rescaled = (255.0 / (data.max()+0.1) * (data - data.min())).astype(np.uint8)\n",
    "    im = Image.fromarray(rescaled)\n",
    "    im.save('images/test_images/2/'+str(boz)+'.jpg')\n",
    "\n",
    "# for boz in range(2000,2700):\n",
    "#     data = cut(ra2[boz],dec2[boz],32,'/Users/shemmati/Downloads/goodsn_all_acs_wfc_f606w_060mas_v2.0_drz.fits')\n",
    "#     data = np.tanh(data)\n",
    "#     rescaled = (255.0 / (data.max()+0.1) * (data - data.min())).astype(np.uint8)\n",
    "#     im = Image.fromarray(rescaled)\n",
    "#     im.save('images/test_images/1/'+str(boz)+'_n.jpg')\n",
    "    \n",
    "#     data = cut(ra2[boz],dec2[boz],32,'/Users/shemmati/Downloads/goodsn_all_acs_wfc_f435w_060mas_v1.3_drz.fits')\n",
    "#     rescaled = (255.0 / (data.max()+0.1) * (data - data.min())).astype(np.uint8)\n",
    "#     im = Image.fromarray(rescaled)\n",
    "#     im.save('images/test_images/2/'+str(boz)+'_n.jpg')\n",
    "\n",
    "    #stop\n",
    " "
   ]
  },
  {
   "cell_type": "code",
   "execution_count": null,
   "metadata": {},
   "outputs": [],
   "source": []
  }
 ],
 "metadata": {
  "kernelspec": {
   "display_name": "Python 3",
   "language": "python",
   "name": "python3"
  },
  "language_info": {
   "codemirror_mode": {
    "name": "ipython",
    "version": 3
   },
   "file_extension": ".py",
   "mimetype": "text/x-python",
   "name": "python",
   "nbconvert_exporter": "python",
   "pygments_lexer": "ipython3",
   "version": "3.7.3"
  }
 },
 "nbformat": 4,
 "nbformat_minor": 2
}

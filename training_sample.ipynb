{
 "cells": [
  {
   "cell_type": "markdown",
   "metadata": {},
   "source": [
    "# Making the trainig sample from CANDELS GOODS-S \n",
    "\n",
    "By Shooby, last edited August 29 2019\n",
    "\n"
   ]
  },
  {
   "cell_type": "code",
   "execution_count": 22,
   "metadata": {},
   "outputs": [],
   "source": [
    "import numpy as np\n",
    "import astropy.io.fits as pyfits\n",
    "import matplotlib.pyplot as plt\n",
    "import astropy.wcs as wcs\n",
    "from astropy import units as u\n",
    "from astropy.coordinates import SkyCoord\n",
    "from scipy import ndimage\n",
    "from PIL import Image\n",
    "\n",
    "\n",
    "%matplotlib inline"
   ]
  },
  {
   "cell_type": "markdown",
   "metadata": {},
   "source": [
    "# High resolution GOODS-S galaxies to H<=26 and z<2"
   ]
  },
  {
   "cell_type": "code",
   "execution_count": 23,
   "metadata": {},
   "outputs": [
    {
     "name": "stdout",
     "output_type": "stream",
     "text": [
      "500 137\n"
     ]
    }
   ],
   "source": [
    "gs = pyfits.getdata('../../WFIRST_WPS/CANDELS_fits/gds.fits')\n",
    "# real sample!: sel1 = (gs['zbest']>0.1)&(gs['zbest']<2.0)&(gs['CLASS_STAR']<0.9)&(gs['Hmag']<26.)&(gs['ISOAREA_IMAGE_F160W']>=5)&(gs['B_IMAGE_1']/gs['A_IMAGE_1']>0.7)\n",
    "sel1 = (gs['zbest']>0.1)&(gs['zbest']<0.7)&(gs['CLASS_STAR']<0.8)&(gs['Hmag']<25.5)&(gs['ISOAREA_IMAGE_F160W']>=300)&(gs['B_IMAGE_1']/gs['A_IMAGE_1']>0.5)\n",
    "sel2 = (gs['zbest']>0.1)&(gs['zbest']<1.0)&(gs['CLASS_STAR']<0.9)&(gs['Hmag']<25.5)&(gs['ISOAREA_IMAGE_F160W']>=300)&(gs['B_IMAGE_1']/gs['A_IMAGE_1']<0.5)\n",
    "\n",
    "print (len(gs[sel1]),len(gs[sel2]))\n",
    "\n"
   ]
  },
  {
   "cell_type": "code",
   "execution_count": 24,
   "metadata": {},
   "outputs": [],
   "source": [
    "##### percentile normalization function borrowed from Miladious! (didn't help)#####\n",
    "\n",
    "def percentile_normalization(data, percentile_low = 1.5, percentile_high = 1.5, p_low_feed = None, p_high_feed = None, scale_coef = 1):\n",
    "    \n",
    "    p_low  = np.percentile(data, percentile_low)\n",
    "    p_high = np.percentile(data, 100 - percentile_high)\n",
    "    \n",
    "    # Artificially set p_low and p_high\n",
    "    if p_low_feed:\n",
    "        p_low = p_low_feed\n",
    "        \n",
    "    if p_high_feed:\n",
    "        p_high = p_high_feed\n",
    "    \n",
    "    # Bound values between q_min and q_max\n",
    "    normalized = np.clip(data, p_low, p_high)\n",
    "    # Shift the zero to prevent negative vlaues\n",
    "    normalized = normalized - np.min(normalized)\n",
    "    # Normalize so the max is 1\n",
    "    normalized /= np.max(normalized)\n",
    "    # Scale\n",
    "    normalized *= scale_coef\n",
    "    \n",
    "    return normalized\n",
    "#####################################################################################\n",
    "def radec2xy(ra,dec,wc):\n",
    "    coords = SkyCoord(ra,dec, unit='deg')\n",
    "    a=wcs.utils.skycoord_to_pixel(coords, wc, origin=0,mode=u'wcs')\n",
    "    return a[0],a[1]\n",
    "    \n",
    "def cut(ra,dec,andaze,filename):\n",
    "    '''gets coordinates of the galaxy and the filter to return a cutout\n",
    "    (also called a postage stamp) of the galaxy with given size'''\n",
    "    hdr = pyfits.getheader(filename)\n",
    "    w = wcs.WCS(hdr)\n",
    "    x,y=radec2xy(ra,dec,w)\n",
    "    x,y=np.int(x),np.int(y)\n",
    "    im=pyfits.getdata(filename)[y-andaze:y+andaze,x-andaze:x+andaze]\n",
    "    return im\n",
    "\n",
    "def segment(a1,above_mean=1.1,add_image_back=0.3,random_noise=0.2):\n",
    "    '''Returns segmentation of an image by some filtering of lower level \n",
    "    noises, to restrict the fitting to the galaxy itself and mask the \n",
    "    surroundings'''\n",
    "    im2=ndimage.gaussian_filter(a1, 2)\n",
    "    mask = (im2 > above_mean*im2.mean()).astype(np.float)\n",
    "    mask += add_image_back * im2\n",
    "    img = mask + random_noise*np.random.randn(*mask.shape)\n",
    "    hist, bin_edges = np.histogram(img, bins=60)\n",
    "    bin_centers = 0.5*(bin_edges[:-1] + bin_edges[1:])\n",
    "    binary_im = img > random_noise\n",
    "    open_img = ndimage.binary_opening(binary_im)\n",
    "    close_img = ndimage.binary_closing(open_img)\n",
    "    return close_img"
   ]
  },
  {
   "cell_type": "code",
   "execution_count": 25,
   "metadata": {},
   "outputs": [
    {
     "data": {
      "text/plain": [
       "<matplotlib.image.AxesImage at 0xb1e0b0e48>"
      ]
     },
     "execution_count": 25,
     "metadata": {},
     "output_type": "execute_result"
    },
    {
     "data": {
      "image/png": "[encoded data removed]",
      "text/plain": [
       "<Figure size 432x288 with 2 Axes>"
      ]
     },
     "metadata": {
      "needs_background": "light"
     },
     "output_type": "display_data"
    }
   ],
   "source": [
    "boz=100\n",
    "\n",
    "\n",
    "ra1,dec1=gs['RA_1'][sel1],gs['DEC_1'][sel1]\n",
    "data = cut(ra1[boz],dec1[boz],32,'/Users/shemmati/Desktop/GOODS/goodss_all_acs_wfc_f606w_060mas_v1.5_drz.fits')\n",
    "#da = percentile_normalization(data)\n",
    "da = np.arcsinh(data)\n",
    "#da[np.isnan(da)]=0\n",
    "#da[da<0]=0\n",
    "rescaled = (255.0 / (da.max()+0.1) * (da - da.min())).astype(np.uint8)\n",
    "plt.subplot(1,2,1)\n",
    "plt.imshow(rescaled,origin='lower')\n",
    "plt.subplot(1,2,2)\n",
    "import scipy\n",
    "s = ndimage.rotate(rescaled,np.random.uniform(0,180),mode='mirror',reshape=False)\n",
    "plt.imshow(s,origin='lower')"
   ]
  },
  {
   "cell_type": "code",
   "execution_count": 26,
   "metadata": {},
   "outputs": [],
   "source": [
    "ra1,dec1=gs['RA_1'][sel1],gs['DEC_1'][sel1]\n",
    "ra2,dec2=gs['RA_1'][sel2],gs['DEC_1'][sel2]\n",
    "\n",
    "im = np.zeros([64,64])\n",
    "for boz in range(3000):\n",
    "    n = np.int(np.random.uniform(0,len(ra1)-1))\n",
    "    data = cut(ra1[n],dec1[n],32,'/Users/shemmati/Desktop/GOODS/goodss_all_acs_wfc_f606w_060mas_v1.5_drz.fits')\n",
    "    if data[0,0]!=0 :\n",
    "        da = percentile_normalization(data)\n",
    "        rescaled = (255.0 / (da.max()+0.1) * (da - da.min())).astype(np.uint8)\n",
    "        angle = np.random.uniform(0,180)\n",
    "        s = ndimage.rotate(rescaled,angle,mode='nearest',reshape=False)\n",
    "        im = Image.fromarray(s)\n",
    "        im.save('images/training_images/1/'+str(boz)+'.jpg')\n",
    "    \n",
    "    n = np.int(np.random.uniform(0,len(ra1)-1))\n",
    "    data = cut(ra1[n],dec1[n],32,'/Users/shemmati/Desktop/GOODS/goodss_all_acs_wfc_f606w_060mas_v1.5_drz.fits')\n",
    "    if data[0,0]!=0 :\n",
    "        da = percentile_normalization(data)\n",
    "        rescaled = (255.0 / (da.max()+0.1) * (da - da.min())).astype(np.uint8)\n",
    "        angle = np.random.uniform(0,180)\n",
    "        s = ndimage.rotate(rescaled,angle,mode='nearest',reshape=False)\n",
    "        im = Image.fromarray(s)\n",
    "        im.save('images/training_images/2/'+str(boz)+'.jpg')\n",
    "    \n",
    "\n",
    "    "
   ]
  },
  {
   "cell_type": "code",
   "execution_count": 27,
   "metadata": {},
   "outputs": [],
   "source": [
    "ra1,dec1=gs['RA_1'][sel1],gs['DEC_1'][sel1]\n",
    "ra2,dec2=gs['RA_1'][sel2],gs['DEC_1'][sel2]\n",
    "\n",
    "im = np.zeros([64,64])\n",
    "for boz in range(1000):\n",
    "    n = np.int(np.random.uniform(0,len(ra1)-1))\n",
    "    data = cut(ra1[n],dec1[n],32,'/Users/shemmati/Desktop/GOODS/goodss_all_acs_wfc_f606w_060mas_v1.5_drz.fits')\n",
    "    if data[0,0]!=0 :\n",
    "        da = percentile_normalization(data)\n",
    "        rescaled = (255.0 / (da.max()+0.1) * (da - da.min())).astype(np.uint8)\n",
    "        angle = np.random.uniform(0,180)\n",
    "        s = ndimage.rotate(rescaled,angle,mode='nearest',reshape=False)\n",
    "        im = Image.fromarray(s)\n",
    "        im.save('images/test_images/1/'+str(boz)+'.jpg')\n",
    "    \n",
    "    n = np.int(np.random.uniform(0,len(ra1)-1))\n",
    "    data = cut(ra1[n],dec1[n],32,'/Users/shemmati/Desktop/GOODS/goodss_all_acs_wfc_f606w_060mas_v1.5_drz.fits')\n",
    "    if data[0,0]!=0 :\n",
    "        da = percentile_normalization(data)\n",
    "        rescaled = (255.0 / (da.max()+0.1) * (da - da.min())).astype(np.uint8)\n",
    "        angle = np.random.uniform(0,180)\n",
    "        s = ndimage.rotate(rescaled,angle,mode='nearest',reshape=False)\n",
    "        im = Image.fromarray(s)\n",
    "        im.save('images/test_images/2/'+str(boz)+'.jpg')\n",
    "    \n",
    "\n",
    "    "
   ]
  },
  {
   "cell_type": "code",
   "execution_count": 208,
   "metadata": {},
   "outputs": [],
   "source": [
    "im = np.zeros([64,64])\n",
    "for boz in range(5000,len(ra1)):\n",
    "    data = cut(ra1[boz],dec1[boz],32,'/Users/shemmati/Desktop/GOODS/goodss_all_acs_wfc_f606w_060mas_v1.5_drz.fits')\n",
    "    if data[0,0]!=0 :\n",
    "        da = np.log10(data+1.0)\n",
    "        da[np.isnan(da)]=0\n",
    "        da[da<0]=0\n",
    "        rescaled = (255.0 / (da.max()+0.1) * (da - da.min())).astype(np.uint8)\n",
    "        im = Image.fromarray(rescaled)\n",
    "        im.save('images/test_images/1/'+str(boz)+'.jpg')\n",
    "    \n",
    "        data = cut(ra1[boz],dec1[boz],32,'/Users/shemmati/Desktop/GOODS/goodss_all_wfc3_ir_f160w_060mas_v1.0_drz.fits')\n",
    "        da = np.log10(data+1.0)\n",
    "        da[np.isnan(da)]=0\n",
    "        da[da<0]=0\n",
    "        rescaled = (255.0 / (da.max()+0.1) * (da - da.min())).astype(np.uint8)\n",
    "        im = Image.fromarray(rescaled)\n",
    "        im.save('images/test_images/2/'+str(boz)+'.jpg')\n",
    "     "
   ]
  },
  {
   "cell_type": "markdown",
   "metadata": {},
   "source": [
    "# Low resolution sample \n",
    "I do this in the GAN now <br>\n",
    "\n",
    "    a) pixel-scale from 0.06\"/pix to 0.18\"/pix\n",
    "    b) psf from ~0.18\"? to 0.6\"\n",
    "    c) noise "
   ]
  },
  {
   "cell_type": "code",
   "execution_count": null,
   "metadata": {},
   "outputs": [],
   "source": []
  }
 ],
 "metadata": {
  "kernelspec": {
   "display_name": "Python 3",
   "language": "python",
   "name": "python3"
  },
  "language_info": {
   "codemirror_mode": {
    "name": "ipython",
    "version": 3
   },
   "file_extension": ".py",
   "mimetype": "text/x-python",
   "name": "python",
   "nbconvert_exporter": "python",
   "pygments_lexer": "ipython3",
   "version": "3.7.3"
  }
 },
 "nbformat": 4,
 "nbformat_minor": 2
}

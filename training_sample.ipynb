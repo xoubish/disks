{
 "cells": [
  {
   "cell_type": "markdown",
   "metadata": {},
   "source": [
    "# Making the trainig sample from CANDELS GOODS-S \n",
    "\n",
    "By Shooby, last edited Sep 26 2019\n",
    "\n"
   ]
  },
  {
   "cell_type": "code",
   "execution_count": 2,
   "metadata": {},
   "outputs": [],
   "source": [
    "import numpy as np\n",
    "import astropy.io.fits as pyfits\n",
    "import matplotlib.pyplot as plt\n",
    "import astropy.wcs as wcs\n",
    "from astropy import units as u\n",
    "from astropy.coordinates import SkyCoord\n",
    "from scipy import ndimage\n",
    "from PIL import Image\n",
    "\n",
    "\n",
    "%matplotlib inline"
   ]
  },
  {
   "cell_type": "markdown",
   "metadata": {},
   "source": [
    "# High resolution GOODS-S galaxies to H<=26 and z<2"
   ]
  },
  {
   "cell_type": "code",
   "execution_count": 3,
   "metadata": {},
   "outputs": [
    {
     "name": "stdout",
     "output_type": "stream",
     "text": [
      "18403\n"
     ]
    }
   ],
   "source": [
    "gs = pyfits.getdata('../../WFIRST_WPS/CANDELS_fits/gds.fits')\n",
    "sel1 = (gs['zbest']>0.01)&(gs['zbest']<6.0)&(gs['CLASS_STAR']<0.9)&(gs['Hmag']<26.)#&(gs['ISOAREA_IMAGE_F160W']>=5)&(gs['B_IMAGE_1']/gs['A_IMAGE_1']>0.6)\n",
    "\n",
    "print (len(gs[sel1]))"
   ]
  },
  {
   "cell_type": "code",
   "execution_count": 4,
   "metadata": {},
   "outputs": [],
   "source": [
    "def radec2xy(ra,dec,wc):\n",
    "    coords = SkyCoord(ra,dec, unit='deg')\n",
    "    a=wcs.utils.skycoord_to_pixel(coords, wc, origin=0,mode=u'wcs')\n",
    "    return a[0],a[1]\n",
    "    \n",
    "def cut(ra,dec,andaze,filename):\n",
    "    '''gets coordinates of the galaxy and the filter to return a cutout\n",
    "    (also called a postage stamp) of the galaxy with given size'''\n",
    "    hdr = pyfits.getheader(filename)\n",
    "    w = wcs.WCS(hdr)\n",
    "    x,y=radec2xy(ra,dec,w)\n",
    "    x,y=np.int(x),np.int(y)\n",
    "    im=pyfits.getdata(filename)[y-andaze:y+andaze,x-andaze:x+andaze]\n",
    "    return im\n",
    "\n",
    "def segment(a1,above_mean=1.1,add_image_back=0.3,random_noise=0.2):\n",
    "    '''Returns segmentation of an image by some filtering of lower level \n",
    "    noises, to restrict the fitting to the galaxy itself and mask the \n",
    "    surroundings'''\n",
    "    im2=ndimage.gaussian_filter(a1, 2)\n",
    "    mask = (im2 > above_mean*im2.mean()).astype(np.float)\n",
    "    mask += add_image_back * im2\n",
    "    img = mask + random_noise*np.random.randn(*mask.shape)\n",
    "    hist, bin_edges = np.histogram(img, bins=60)\n",
    "    bin_centers = 0.5*(bin_edges[:-1] + bin_edges[1:])\n",
    "    binary_im = img > random_noise\n",
    "    open_img = ndimage.binary_opening(binary_im)\n",
    "    close_img = ndimage.binary_closing(open_img)\n",
    "    return close_img"
   ]
  },
  {
   "cell_type": "code",
   "execution_count": 39,
   "metadata": {},
   "outputs": [],
   "source": [
    "#GOODS-S all\n",
    "ra1,dec1=gs['RA_1'][sel1],gs['DEC_1'][sel1]\n",
    "\n",
    "im = np.zeros([64,64])\n",
    "for boz in range(3000):\n",
    "    n = np.int(np.random.uniform(0,len(ra1)-1))\n",
    "    data = cut(ra1[n],dec1[n],50,'/Users/shemmati/Desktop/GOODS/goodss_all_acs_wfc_f775w_060mas_v1.5_drz.fits')\n",
    "    if data[0,0]!=0 :\n",
    "        angle = np.random.uniform(0,180)\n",
    "        s = ndimage.rotate(data,angle,mode='nearest',reshape=False)\n",
    "        da = np.arcsinh(s[18:-18,18:-18])\n",
    "        rescaled = (255.0 / (da.max()+0.1) * (da - da.min())).astype(np.uint8)\n",
    "        im = Image.fromarray(rescaled)\n",
    "        im.save('images/training_images/1/'+str(boz)+'.jpg')\n",
    "    \n",
    "    n = np.int(np.random.uniform(0,len(ra1)-1))\n",
    "    data = cut(ra1[n],dec1[n],50,'/Users/shemmati/Desktop/GOODS/goodss_all_acs_wfc_f775w_060mas_v1.5_drz.fits')\n",
    "    if data[0,0]!=0 :\n",
    "        angle = np.random.uniform(0,180)\n",
    "        s = ndimage.rotate(data,angle,mode='nearest',reshape=False)\n",
    "        da = np.arcsinh(s[18:-18,18:-18])\n",
    "        rescaled = (255.0 / (da.max()+0.1) * (da - da.min())).astype(np.uint8)\n",
    "        im = Image.fromarray(rescaled)\n",
    "        im.save('images/training_images/2/'+str(boz)+'.jpg')\n",
    "\n",
    "    "
   ]
  },
  {
   "cell_type": "code",
   "execution_count": null,
   "metadata": {},
   "outputs": [],
   "source": [
    "#GOODS-S all\n",
    "ra1,dec1=gs['RA_1'][sel1],gs['DEC_1'][sel1]\n",
    "\n",
    "im = np.zeros([64,64])\n",
    "for boz in range(1000):\n",
    "    n = np.int(np.random.uniform(0,len(ra1)-1))\n",
    "    data = cut(ra1[n],dec1[n],50,'/Users/shemmati/Desktop/GOODS/goodss_all_acs_wfc_f775w_060mas_v1.5_drz.fits')\n",
    "    if data[0,0]!=0 :\n",
    "        angle = np.random.uniform(0,180)\n",
    "        s = ndimage.rotate(data,angle,mode='nearest',reshape=False)\n",
    "        da = np.arcsinh(s[18:-18,18:-18])\n",
    "        rescaled = (255.0 / (da.max()+0.1) * (da - da.min())).astype(np.uint8)\n",
    "        im = Image.fromarray(rescaled)\n",
    "        im.save('images/test_images/1/'+str(boz)+'.jpg')\n",
    "    \n",
    "    n = np.int(np.random.uniform(0,len(ra1)-1))\n",
    "    data = cut(ra1[n],dec1[n],50,'/Users/shemmati/Desktop/GOODS/goodss_all_acs_wfc_f775w_060mas_v1.5_drz.fits')\n",
    "    if data[0,0]!=0 :\n",
    "        angle = np.random.uniform(0,180)\n",
    "        s = ndimage.rotate(data,angle,mode='nearest',reshape=False)\n",
    "        da = np.arcsinh(s[18:-18,18:-18])\n",
    "        rescaled = (255.0 / (da.max()+0.1) * (da - da.min())).astype(np.uint8)\n",
    "        im = Image.fromarray(rescaled)\n",
    "        im.save('images/test_images/2/'+str(boz)+'.jpg')\n",
    "  "
   ]
  },
  {
   "cell_type": "code",
   "execution_count": 39,
   "metadata": {},
   "outputs": [],
   "source": [
    "# optim \n",
    "sel1 = (gs['zbest']>0.1)&(gs['zbest']<0.7)&(gs['CLASS_STAR']<0.8)&(gs['Hmag']<25.5)&(gs['ISOAREA_IMAGE_F160W']>=300)&(gs['B_IMAGE_1']/gs['A_IMAGE_1']>0.5)\n"
   ]
  },
  {
   "cell_type": "code",
   "execution_count": 40,
   "metadata": {},
   "outputs": [
    {
     "data": {
      "text/plain": [
       "<matplotlib.image.AxesImage at 0xb1e0e2ef0>"
      ]
     },
     "execution_count": 40,
     "metadata": {},
     "output_type": "execute_result"
    },
    {
     "data": {
      "image/png": "[encoded data removed]",
      "text/plain": [
       "<Figure size 432x288 with 2 Axes>"
      ]
     },
     "metadata": {
      "needs_background": "light"
     },
     "output_type": "display_data"
    }
   ],
   "source": [
    "boz=100\n",
    "\n",
    "\n",
    "ra1,dec1=gs['RA_1'][sel1],gs['DEC_1'][sel1]\n",
    "data = cut(ra1[boz],dec1[boz],32,'/Users/shemmati/Desktop/GOODS/goodss_all_acs_wfc_f606w_060mas_v1.5_drz.fits')\n",
    "#da = percentile_normalization(data)\n",
    "da = np.arcsinh(data)\n",
    "#da[np.isnan(da)]=0\n",
    "#da[da<0]=0\n",
    "rescaled = (255.0 / (da.max()+0.1) * (da - da.min())).astype(np.uint8)\n",
    "plt.subplot(1,2,1)\n",
    "plt.imshow(rescaled,origin='lower')\n",
    "plt.subplot(1,2,2)\n",
    "import scipy\n",
    "s = ndimage.rotate(rescaled,np.random.uniform(0,180),mode='mirror',reshape=False)\n",
    "plt.imshow(s,origin='lower')"
   ]
  },
  {
   "cell_type": "code",
   "execution_count": 41,
   "metadata": {},
   "outputs": [],
   "source": [
    "ra1,dec1=gs['RA_1'][sel1],gs['DEC_1'][sel1]\n",
    "ra2,dec2=gs['RA_1'][sel2],gs['DEC_1'][sel2]\n",
    "\n",
    "im = np.zeros([64,64])\n",
    "for boz in range(3000):\n",
    "    n = np.int(np.random.uniform(0,len(ra1)-1))\n",
    "    data = cut(ra1[n],dec1[n],32,'/Users/shemmati/Desktop/GOODS/goodss_all_acs_wfc_f606w_060mas_v1.5_drz.fits')\n",
    "    if data[0,0]!=0 :\n",
    "        #da = percentile_normalization(data)\n",
    "        da = np.arcsinh(data)\n",
    "        rescaled = (255.0 / (da.max()+0.1) * (da - da.min())).astype(np.uint8)\n",
    "        angle = np.random.uniform(0,180)\n",
    "        s = ndimage.rotate(rescaled,angle,mode='nearest',reshape=False)\n",
    "        im = Image.fromarray(s)\n",
    "        im.save('images/training_images/1/'+str(boz)+'.jpg')\n",
    "    \n",
    "    n = np.int(np.random.uniform(0,len(ra1)-1))\n",
    "    data = cut(ra1[n],dec1[n],32,'/Users/shemmati/Desktop/GOODS/goodss_all_acs_wfc_f606w_060mas_v1.5_drz.fits')\n",
    "    if data[0,0]!=0 :\n",
    "        da = np.arcsinh(data)\n",
    "        #da = percentile_normalization(data)\n",
    "        rescaled = (255.0 / (da.max()+0.1) * (da - da.min())).astype(np.uint8)\n",
    "        angle = np.random.uniform(0,180)\n",
    "        s = ndimage.rotate(rescaled,angle,mode='nearest',reshape=False)\n",
    "        im = Image.fromarray(s)\n",
    "        im.save('images/training_images/2/'+str(boz)+'.jpg')\n",
    "    \n",
    "\n",
    "    "
   ]
  },
  {
   "cell_type": "code",
   "execution_count": 42,
   "metadata": {},
   "outputs": [],
   "source": [
    "ra1,dec1=gs['RA_1'][sel1],gs['DEC_1'][sel1]\n",
    "ra2,dec2=gs['RA_1'][sel2],gs['DEC_1'][sel2]\n",
    "\n",
    "im = np.zeros([64,64])\n",
    "for boz in range(1000):\n",
    "    n = np.int(np.random.uniform(0,len(ra1)-1))\n",
    "    data = cut(ra1[n],dec1[n],32,'/Users/shemmati/Desktop/GOODS/goodss_all_acs_wfc_f606w_060mas_v1.5_drz.fits')\n",
    "    if data[0,0]!=0 :\n",
    "        da = np.arcsinh(data)\n",
    "        #da = percentile_normalization(data)\n",
    "        rescaled = (255.0 / (da.max()+0.1) * (da - da.min())).astype(np.uint8)\n",
    "        angle = np.random.uniform(0,180)\n",
    "        s = ndimage.rotate(rescaled,angle,mode='nearest',reshape=False)\n",
    "        im = Image.fromarray(s)\n",
    "        im.save('images/test_images/1/'+str(boz)+'.jpg')\n",
    "    \n",
    "    n = np.int(np.random.uniform(0,len(ra1)-1))\n",
    "    data = cut(ra1[n],dec1[n],32,'/Users/shemmati/Desktop/GOODS/goodss_all_acs_wfc_f606w_060mas_v1.5_drz.fits')\n",
    "    if data[0,0]!=0 :\n",
    "        da = np.arcsinh(data)\n",
    "        # da = percentile_normalization(data)\n",
    "        rescaled = (255.0 / (da.max()+0.1) * (da - da.min())).astype(np.uint8)\n",
    "        angle = np.random.uniform(0,180)\n",
    "        s = ndimage.rotate(rescaled,angle,mode='nearest',reshape=False)\n",
    "        im = Image.fromarray(s)\n",
    "        im.save('images/test_images/2/'+str(boz)+'.jpg')"
   ]
  },
  {
   "cell_type": "markdown",
   "metadata": {},
   "source": [
    "# Low resolution sample \n",
    "I do this in the GAN now <br>\n",
    "\n",
    "    a) pixel-scale from 0.06\"/pix to 0.18\"/pix\n",
    "    b) psf from ~0.18\"? to 0.6\"\n",
    "    c) noise "
   ]
  },
  {
   "cell_type": "code",
   "execution_count": null,
   "metadata": {},
   "outputs": [],
   "source": []
  }
 ],
 "metadata": {
  "kernelspec": {
   "display_name": "Python 2",
   "language": "python",
   "name": "python2"
  },
  "language_info": {
   "codemirror_mode": {
    "name": "ipython",
    "version": 2
   },
   "file_extension": ".py",
   "mimetype": "text/x-python",
   "name": "python",
   "nbconvert_exporter": "python",
   "pygments_lexer": "ipython2",
   "version": "2.7.15"
  }
 },
 "nbformat": 4,
 "nbformat_minor": 4
}

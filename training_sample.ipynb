{
 "cells": [
  {
   "cell_type": "markdown",
   "metadata": {},
   "source": [
    "# Making the trainig sample from CANDELS GOODS-S \n",
    "\n",
    "By Shooby, last edited May29 2019\n",
    "\n"
   ]
  },
  {
   "cell_type": "code",
   "execution_count": 26,
   "metadata": {},
   "outputs": [],
   "source": [
    "import numpy as np\n",
    "import astropy.io.fits as pyfits\n",
    "import matplotlib.pyplot as plt\n",
    "import astropy.wcs as wcs\n",
    "from astropy import units as u\n",
    "from astropy.coordinates import SkyCoord\n",
    "from scipy import ndimage\n",
    "#import scipy.misc\n",
    "from PIL import Image\n",
    "\n",
    "\n",
    "%matplotlib inline"
   ]
  },
  {
   "cell_type": "code",
   "execution_count": 2,
   "metadata": {},
   "outputs": [],
   "source": [
    "gs = pyfits.getdata('../../WFIRST_WPS/CANDELS_fits/gds.fits')"
   ]
  },
  {
   "cell_type": "code",
   "execution_count": 52,
   "metadata": {},
   "outputs": [
    {
     "name": "stdout",
     "output_type": "stream",
     "text": [
      "3723\n"
     ]
    }
   ],
   "source": [
    "sel = (gs['zbest']>0.25)&(gs['zbest']<0.75)&(gs['CLASS_STAR']<0.8)&(gs['FWHM_IMAGE']>5)\n",
    "print (len(gs[sel]))"
   ]
  },
  {
   "cell_type": "code",
   "execution_count": 47,
   "metadata": {},
   "outputs": [],
   "source": [
    "def radec2xy(ra,dec,wc):\n",
    "    coords = SkyCoord(ra,dec, unit='deg')\n",
    "    a=wcs.utils.skycoord_to_pixel(coords, wc, origin=0,mode=u'wcs')\n",
    "    return a[0],a[1]\n",
    "    \n",
    "def cut(ra,dec,andaze,filename):\n",
    "    '''gets coordinates of the galaxy and the filter to return a cutout\n",
    "    (also called a postage stamp) of the galaxy with given size'''\n",
    "    hdr = pyfits.getheader(filename)\n",
    "    w = wcs.WCS(hdr)\n",
    "    x,y=radec2xy(ra,dec,w)\n",
    "    x,y=np.int(x),np.int(y)\n",
    "    im=pyfits.getdata(filename)[y-andaze:y+andaze,x-andaze:x+andaze]\n",
    "    return im\n",
    "\n",
    "def segment(a1,above_mean=1.1,add_image_back=0.3,random_noise=0.2):\n",
    "    '''Returns segmentation of an image by some filtering of lower level \n",
    "    noises, to restrict the fitting to the galaxy itself and mask the \n",
    "    surroundings'''\n",
    "    im2=ndimage.gaussian_filter(a1, 2)\n",
    "    mask = (im2 > above_mean*im2.mean()).astype(np.float)\n",
    "    mask += add_image_back * im2\n",
    "    img = mask + random_noise*np.random.randn(*mask.shape)\n",
    "    hist, bin_edges = np.histogram(img, bins=60)\n",
    "    bin_centers = 0.5*(bin_edges[:-1] + bin_edges[1:])\n",
    "    binary_im = img > random_noise\n",
    "    open_img = ndimage.binary_opening(binary_im)\n",
    "    close_img = ndimage.binary_closing(open_img)\n",
    "    return close_img"
   ]
  },
  {
   "cell_type": "code",
   "execution_count": 48,
   "metadata": {},
   "outputs": [
    {
     "name": "stderr",
     "output_type": "stream",
     "text": [
      "/Users/shemmati/anaconda3/lib/python3.7/site-packages/ipykernel_launcher.py:5: RuntimeWarning: divide by zero encountered in true_divide\n",
      "  \"\"\"\n",
      "/Users/shemmati/anaconda3/lib/python3.7/site-packages/ipykernel_launcher.py:5: RuntimeWarning: invalid value encountered in multiply\n",
      "  \"\"\"\n",
      "/Users/shemmati/anaconda3/lib/python3.7/site-packages/ipykernel_launcher.py:15: RuntimeWarning: divide by zero encountered in true_divide\n",
      "  from ipykernel import kernelapp as app\n",
      "/Users/shemmati/anaconda3/lib/python3.7/site-packages/ipykernel_launcher.py:15: RuntimeWarning: invalid value encountered in multiply\n",
      "  from ipykernel import kernelapp as app\n",
      "/Users/shemmati/anaconda3/lib/python3.7/site-packages/ipykernel_launcher.py:10: RuntimeWarning: divide by zero encountered in true_divide\n",
      "  # Remove the CWD from sys.path while we load stuff.\n",
      "/Users/shemmati/anaconda3/lib/python3.7/site-packages/ipykernel_launcher.py:10: RuntimeWarning: invalid value encountered in multiply\n",
      "  # Remove the CWD from sys.path while we load stuff.\n",
      "/Users/shemmati/anaconda3/lib/python3.7/site-packages/ipykernel_launcher.py:20: RuntimeWarning: divide by zero encountered in true_divide\n",
      "/Users/shemmati/anaconda3/lib/python3.7/site-packages/ipykernel_launcher.py:20: RuntimeWarning: invalid value encountered in multiply\n"
     ]
    }
   ],
   "source": [
    "ra,dec=gs['RA_1'][sel],gs['DEC_1'][sel]\n",
    "im = np.zeros([60,60])\n",
    "for boz in range(len(ra)):\n",
    "    data = cut(ra[boz],dec[boz],30,'/Users/shemmati/Desktop/GOODS/goodss_all_acs_wfc_f435w_060mas_v1.5_drz.fits')\n",
    "    rescaled = (255.0 / data.max() * (data - data.min())).astype(np.uint8)\n",
    "    im = Image.fromarray(rescaled)\n",
    "    im.save('images/bband/'+str(boz)+'.jpg')\n",
    "\n",
    "    data = cut(ra[boz],dec[boz],25,'/Users/shemmati/Desktop/GOODS/goodss_all_acs_wfc_f606w_060mas_v1.5_drz.fits')\n",
    "    rescaled = (255.0 / data.max() * (data - data.min())).astype(np.uint8)\n",
    "    im = Image.fromarray(rescaled)\n",
    "    im.save('images/vband/'+str(boz)+'.jpg')\n",
    "    \n",
    "    data = cut(ra[boz],dec[boz],25,'/Users/shemmati/Desktop/GOODS/goodss_all_acs_wfc_f775w_060mas_v1.5_drz.fits')\n",
    "    rescaled = (255.0 / data.max() * (data - data.min())).astype(np.uint8)\n",
    "    im = Image.fromarray(rescaled)\n",
    "    im.save('images/iband/'+str(boz)+'.jpg')\n",
    "    \n",
    "    data = cut(ra[boz],dec[boz],25,'/Users/shemmati/Desktop/GOODS/goodss_all_acs_wfc_f850l_060mas_v1.5_drz.fits')\n",
    "    rescaled = (255.0 / data.max() * (data - data.min())).astype(np.uint8)\n",
    "    im = Image.fromarray(rescaled)\n",
    "    im.save('images/zband/'+str(boz)+'.jpg')\n",
    "    \n",
    "    \n",
    "    #stop\n",
    "    "
   ]
  },
  {
   "cell_type": "code",
   "execution_count": 115,
   "metadata": {},
   "outputs": [],
   "source": [
    "from __future__ import print_function\n",
    "import tensorflow as tf\n",
    "import os\n",
    "\n",
    "DATASET_PATH = 'images/' \n",
    "\n",
    "N_CLASSES = 4 \n",
    "IMG_HEIGHT = 60 \n",
    "IMG_WIDTH = 60 \n",
    "CHANNELS = 1 \n",
    "\n",
    "\n",
    "def read_images(dataset_path, batch_size):\n",
    "    imagepaths, labels = list(), list()\n",
    "    label = 0\n",
    "    classes = sorted(os.walk(dataset_path).__next__()[1])\n",
    "    for c in classes:\n",
    "        c_dir = os.path.join(dataset_path, c)\n",
    "        walk = os.walk(c_dir).__next__()\n",
    "        for sample in walk[2]:\n",
    "            if sample.endswith('.jpg') or sample.endswith('.jpeg'):\n",
    "                imagepaths.append(os.path.join(c_dir, sample))\n",
    "                labels.append(label)\n",
    "        label += 1\n",
    "    \n",
    "    # Convert to Tensor\n",
    "    imagepaths = tf.convert_to_tensor(imagepaths, dtype=tf.string)\n",
    "    labels = tf.convert_to_tensor(labels, dtype=tf.int32)\n",
    "    # Build a TF Queue, shuffle data\n",
    "    image, label = tf.train.slice_input_producer([imagepaths, labels],\n",
    "                                                 shuffle=True)\n",
    "\n",
    "    # Read images from disk\n",
    "    image = tf.read_file(image)\n",
    "    image = tf.image.decode_jpeg(image, channels=CHANNELS)\n",
    "\n",
    "    # Resize images to a common size\n",
    "    image = tf.image.resize_images(image, [IMG_HEIGHT, IMG_WIDTH])\n",
    "\n",
    "    # Normalize\n",
    "    image = image * 1.0/127.5 - 1.0\n",
    "\n",
    "    X, Y = tf.train.batch([image, label], batch_size=batch_size,\n",
    "                          capacity=batch_size * 8,\n",
    "                          num_threads=4)\n",
    "    return X, Y"
   ]
  },
  {
   "cell_type": "code",
   "execution_count": 117,
   "metadata": {},
   "outputs": [],
   "source": [
    "X, Y = read_images(DATASET_PATH,100)"
   ]
  }
 ],
 "metadata": {
  "kernelspec": {
   "display_name": "Python 3",
   "language": "python",
   "name": "python3"
  },
  "language_info": {
   "codemirror_mode": {
    "name": "ipython",
    "version": 3
   },
   "file_extension": ".py",
   "mimetype": "text/x-python",
   "name": "python",
   "nbconvert_exporter": "python",
   "pygments_lexer": "ipython3",
   "version": "3.7.3"
  }
 },
 "nbformat": 4,
 "nbformat_minor": 2
}

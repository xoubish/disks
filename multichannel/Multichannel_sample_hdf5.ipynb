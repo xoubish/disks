{
 "cells": [
  {
   "cell_type": "markdown",
   "metadata": {},
   "source": [
    "# Muultiwavelength HDF5 input\n",
    "Added by Shooby: Oct 24th 2019, Last edited Nov 4th, 2020"
   ]
  },
  {
   "cell_type": "code",
   "execution_count": null,
   "metadata": {},
   "outputs": [],
   "source": [
    "from galblend import *\n",
    "%matplotlib inline\n",
    "\n",
    "hi,i1,i2,lo,gan,psf_hires,psf_lores,data,nums = galblend(gals=1,lim_hmag=25,plot_it=True)\n",
    "print(nums)\n",
    "hi,i1,i2,lo,gan,psf_hires,psf_lores,data,nums = galblend(gals=1,lim_hmag=25,plot_it=True)\n",
    "print(nums)\n",
    "hi,i1,i2,lo,gan,psf_hires,psf_lores,data,nums = galblend(gals=1,lim_hmag=25,plot_it=True)\n",
    "print(nums)\n"
   ]
  },
  {
   "cell_type": "code",
   "execution_count": null,
   "metadata": {},
   "outputs": [],
   "source": [
    "from galblend import *\n",
    "imaggge,i1,i2,lo,gan,psf_hires,psf_lores,data,nums = galblend(gals=2,lim_hmag=24,plot_it=False)\n",
    "\n",
    "plt.figure(figsize=(12,5))\n",
    "filts = ['450nm','606nm','750nm','814nm','850nm','1250nm','1600nm']\n",
    "for i in range(7):\n",
    "        \n",
    "    plt.subplot(3,7,i+1)\n",
    "    plt.imshow(imaggge[i,:,:],origin='lower')\n",
    "    plt.text(10,10,filts[i],color='y',size=16)\n",
    "    \n",
    "    plt.xticks([])\n",
    "    plt.yticks([])\n",
    "    if i ==0:\n",
    "        plt.ylabel('High Res',size=20)\n",
    "    \n",
    "    plt.subplot(3,7,7+i+1)\n",
    "    plt.imshow(lo[i,:,:],origin='lower')\n",
    "    plt.xticks([])\n",
    "    plt.yticks([])\n",
    "    if i ==0:\n",
    "        plt.ylabel('Low Res',size=20)   \n",
    "        \n",
    "    plt.subplot(3,7,14+i+1)\n",
    "    plt.imshow((gan[i,:,:]),origin='lower')\n",
    "    plt.xticks([])\n",
    "    plt.yticks([])\n",
    "    if i ==0:\n",
    "        plt.ylabel('GAN Res',size=20)  \n",
    "        \n",
    "plt.tight_layout()\n",
    "#plt.savefig('../plots/multi.png')"
   ]
  },
  {
   "cell_type": "code",
   "execution_count": null,
   "metadata": {},
   "outputs": [],
   "source": [
    "import h5py\n",
    "hf = h5py.File('Sample_train.hdf5', 'r')\n",
    "hf.keys()\n",
    "\n",
    "boz=np.random.randint(1,100)\n",
    "mm = hf['train_img'][boz, ...]\n",
    "plt.figure(figsize=(14,3))\n",
    "for i in range(7):\n",
    "    plt.subplot(1,7,i+1)\n",
    "    plt.imshow(mm[i,:,:],origin='lower')\n",
    "    plt.axis('off')\n",
    "hf.close()"
   ]
  },
  {
   "cell_type": "code",
   "execution_count": 1,
   "metadata": {},
   "outputs": [
    {
     "ename": "NameError",
     "evalue": "name 'stop' is not defined",
     "output_type": "error",
     "traceback": [
      "\u001b[0;31m---------------------------------------------------------------------------\u001b[0m",
      "\u001b[0;31mNameError\u001b[0m                                 Traceback (most recent call last)",
      "\u001b[0;32m<ipython-input-1-06edc66b58f3>\u001b[0m in \u001b[0;36m<module>\u001b[0;34m\u001b[0m\n\u001b[1;32m     25\u001b[0m         \u001b[0mpash\u001b[0m \u001b[0;34m=\u001b[0m \u001b[0;34m(\u001b[0m\u001b[0;36m255.0\u001b[0m \u001b[0;34m/\u001b[0m \u001b[0;34m(\u001b[0m\u001b[0mda\u001b[0m\u001b[0;34m.\u001b[0m\u001b[0mmax\u001b[0m\u001b[0;34m(\u001b[0m\u001b[0;34m)\u001b[0m\u001b[0;34m+\u001b[0m\u001b[0;36m0.1\u001b[0m\u001b[0;34m)\u001b[0m \u001b[0;34m*\u001b[0m \u001b[0;34m(\u001b[0m\u001b[0mda\u001b[0m \u001b[0;34m-\u001b[0m \u001b[0mda\u001b[0m\u001b[0;34m.\u001b[0m\u001b[0mmin\u001b[0m\u001b[0;34m(\u001b[0m\u001b[0;34m)\u001b[0m\u001b[0;34m)\u001b[0m\u001b[0;34m)\u001b[0m\u001b[0;34m.\u001b[0m\u001b[0mastype\u001b[0m\u001b[0;34m(\u001b[0m\u001b[0mnp\u001b[0m\u001b[0;34m.\u001b[0m\u001b[0muint8\u001b[0m\u001b[0;34m)\u001b[0m\u001b[0;34m\u001b[0m\u001b[0;34m\u001b[0m\u001b[0m\n\u001b[1;32m     26\u001b[0m         \u001b[0mpashe\u001b[0m\u001b[0;34m[\u001b[0m\u001b[0mchi\u001b[0m\u001b[0;34m,\u001b[0m\u001b[0;34m:\u001b[0m\u001b[0;34m,\u001b[0m\u001b[0;34m:\u001b[0m\u001b[0;34m]\u001b[0m \u001b[0;34m=\u001b[0m \u001b[0mtfms\u001b[0m\u001b[0;34m(\u001b[0m\u001b[0mpash\u001b[0m\u001b[0;34m)\u001b[0m\u001b[0;34m\u001b[0m\u001b[0;34m\u001b[0m\u001b[0m\n\u001b[0;32m---> 27\u001b[0;31m     \u001b[0mstop\u001b[0m\u001b[0;34m\u001b[0m\u001b[0;34m\u001b[0m\u001b[0m\n\u001b[0m\u001b[1;32m     28\u001b[0m     \u001b[0;31m# save the image and calculate the mean so far\u001b[0m\u001b[0;34m\u001b[0m\u001b[0;34m\u001b[0m\u001b[0;34m\u001b[0m\u001b[0m\n\u001b[1;32m     29\u001b[0m     \u001b[0mhdf5_file\u001b[0m\u001b[0;34m[\u001b[0m\u001b[0;34m\"train_img\"\u001b[0m\u001b[0;34m]\u001b[0m\u001b[0;34m[\u001b[0m\u001b[0mi\u001b[0m\u001b[0;34m,\u001b[0m \u001b[0;34m...\u001b[0m\u001b[0;34m]\u001b[0m \u001b[0;34m=\u001b[0m \u001b[0mpashe\u001b[0m\u001b[0;34m\u001b[0m\u001b[0;34m\u001b[0m\u001b[0m\n",
      "\u001b[0;31mNameError\u001b[0m: name 'stop' is not defined"
     ]
    }
   ],
   "source": [
    "#%rm 'Sample_train.hdf5'\n",
    "import torchvision.transforms as transforms\n",
    "from simgal import *\n",
    "import h5py\n",
    "\n",
    "sample_size = 4000\n",
    "\n",
    "tfms = transforms.Compose([transforms.ToTensor(),transforms.Normalize((0.5,), (0.5,))])\n",
    "train_shape = (sample_size, 7, 64, 64)\n",
    "\n",
    "hdf5_file = h5py.File('Sample_train.hdf5', mode='w')\n",
    "hdf5_file.create_dataset(\"train_img\", train_shape, np.float32)\n",
    "hdf5_file.create_dataset(\"train_labels\", (sample_size,), np.float32)\n",
    "hdf5_file[\"train_labels\"][...] = np.zeros(sample_size)\n",
    "\n",
    "for i in range(sample_size):\n",
    "    # print how many images are saved every 1000 images\n",
    "    im = simgal(gals=np.random.randint(1,3),lim_hmag=25,plot_it=False)\n",
    "    if i % 500 == 0 and i > 1:\n",
    "        print ('Train data: {}/{}'.format(i, sample_size))\n",
    "    pashe = np.zeros((7,64,64))\n",
    "    for chi in range(7):\n",
    "        s = ndimage.rotate(im[chi,:,:],0,mode='nearest',reshape=False)\n",
    "        da = np.arcsinh(s)\n",
    "        pash = (255.0 / (da.max()+0.1) * (da - da.min())).astype(np.uint8)\n",
    "        pashe[chi,:,:] = tfms(pash)\n",
    "    # save the image and calculate the mean so far\n",
    "    hdf5_file[\"train_img\"][i, ...] = pashe\n",
    "\n",
    "hdf5_file.close()"
   ]
  },
  {
   "cell_type": "code",
   "execution_count": 8,
   "metadata": {},
   "outputs": [
    {
     "data": {
      "text/plain": [
       "<matplotlib.image.AxesImage at 0x7ff92aba0290>"
      ]
     },
     "execution_count": 8,
     "metadata": {},
     "output_type": "execute_result"
    },
    {
     "data": {
      "image/png": "[encoded data removed]",
      "text/plain": [
       "<Figure size 432x288 with 1 Axes>"
      ]
     },
     "metadata": {
      "needs_background": "light"
     },
     "output_type": "display_data"
    }
   ],
   "source": [
    "plt.imshow(pashe[6,:,:])"
   ]
  },
  {
   "cell_type": "code",
   "execution_count": null,
   "metadata": {},
   "outputs": [],
   "source": [
    "gs = pyfits.getdata('/Users/shemmati/Dropbox/WFIRST_WPS/CANDELS_fits/gds.fits')\n",
    "sel = (gs['zbest']>0.01)&(gs['zbest']<4.0)&(gs['CLASS_STAR']<0.9)&(gs['Hmag']<25.)&(gs['ISOAREA_IMAGE_F160W']>=40)&(gs['DECdeg']>-27.87)\n",
    "\n",
    "sample_size = len(gs[sel])\n",
    "image_size = 64\n",
    "cut_size = 32\n",
    "ra1,dec1,red1 = gs['RA_1'][sel],gs['DEC_1'][sel],gs['zbest'][sel]\n",
    "mass1,sfr1 = gs['M_neb_med_lin'][sel], gs['SFR_13a_tau'][sel]\n",
    "urest1,vrest1,jrest1 = gs['restUXbessel'][sel],gs['restVbessel'][sel],gs['restJpalomar'][sel]\n",
    "\n",
    "# furthur cut on brightest galaxy being at the center of the cutout\n",
    "redshift,ra,dec,mass,sfr,urest,vrest,jrest = [],[],[],[],[],[],[],[]\n",
    "for i in range(sample_size):\n",
    "    dat = cut(ra1[i],dec1[i],cut_size,imdir+'goodss_all_acs_wfc_f850l_060mas_v1.5_drz.fits')\n",
    "    if (brightest_center(dat)):\n",
    "        redshift.append(red1[i])\n",
    "        ra.append(ra1[i])\n",
    "        dec.append(dec1[i])\n",
    "        mass.append(mass1[i])\n",
    "        sfr.append(sfr1[i])\n",
    "        urest.append(urest1[i])\n",
    "        vrest.append(vrest1[i])\n",
    "        jrest.append(jrest1[i])\n",
    "\n",
    "sample_size = len(redshift)\n",
    "print (sample_size)"
   ]
  },
  {
   "cell_type": "code",
   "execution_count": null,
   "metadata": {},
   "outputs": [],
   "source": [
    "gs = pyfits.getdata('/Users/shemmati/Dropbox/WFIRST_WPS/CANDELS_fits/gds.fits')\n",
    "sel = (gs['zbest']>0.01)&(gs['zbest']<2.0)&(gs['CLASS_STAR']<0.9)&(gs['Hmag']<25.)&(gs['ISOAREA_IMAGE_F160W']>=25)&(gs['DECdeg']<-27.87)\n",
    "\n",
    "sample_size = len(gs[sel])\n",
    "image_size = 64\n",
    "cut_size = 32\n",
    "ra1,dec1,red1 = gs['RA_1'][sel],gs['DEC_1'][sel],gs['zbest'][sel]\n",
    "mass1,sfr1 = gs['M_neb_med_lin'][sel], gs['SFR_13a_tau'][sel]\n",
    "urest1,vrest1,jrest1 = gs['restUXbessel'][sel],gs['restVbessel'][sel],gs['restJpalomar'][sel]\n",
    "\n",
    "# furthur cut on brightest galaxy being at the center of the cutout\n",
    "redshift,ra,dec,mass,sfr,urest,vrest,jrest = [],[],[],[],[],[],[],[]\n",
    "for i in range(sample_size):\n",
    "    dat = cut(ra1[i],dec1[i],cut_size,imdir+'goodss_all_acs_wfc_f850l_060mas_v1.5_drz.fits')\n",
    "    if (brightest_center(dat)):\n",
    "        redshift.append(red1[i])\n",
    "        ra.append(ra1[i])\n",
    "        dec.append(dec1[i])\n",
    "        mass.append(mass1[i])\n",
    "        sfr.append(sfr1[i])\n",
    "        urest.append(urest1[i])\n",
    "        vrest.append(vrest1[i])\n",
    "        jrest.append(jrest1[i])\n",
    "\n",
    "sample_size = len(redshift)\n",
    "print (sample_size)"
   ]
  },
  {
   "cell_type": "code",
   "execution_count": null,
   "metadata": {},
   "outputs": [],
   "source": [
    "#%rm 'Sample.hdf5'\n",
    "import torchvision.transforms as transforms\n",
    "tfms = transforms.Compose([transforms.ToTensor(),transforms.Normalize((0.5,), (0.5,))])\n",
    "\n",
    "train_shape = (sample_size, 7, 64, 64)\n",
    "\n",
    "hdf5_file = h5py.File('Sample_test.hdf5', mode='w')\n",
    "\n",
    "hdf5_file.create_dataset(\"test_img\", train_shape, np.float32)\n",
    "hdf5_file.create_dataset(\"test_labels\", (sample_size,), np.float32)\n",
    "hdf5_file[\"test_labels\"][...] = redshift\n",
    "\n",
    "for i in range(sample_size):\n",
    "    # print how many images are saved every 1000 images\n",
    "    if i % 500 == 0 and i > 1:\n",
    "        print ('Test data: {}/{}'.format(i, len(gs[sel])))\n",
    "\n",
    "        \n",
    "    data = np.zeros((7,64,64))\n",
    "    pashe = np.zeros((7,64,64))\n",
    "    \n",
    "    data[0,:,:] = cut(ra1[i],dec1[i],32,'/Users/shemmati/Desktop/GOODS/goodss_all_acs_wfc_f435w_060mas_v1.5_drz.fits')\n",
    "    data[1,:,:] = cut(ra1[i],dec1[i],32,'/Users/shemmati/Desktop/GOODS/goodss_all_acs_wfc_f606w_060mas_v1.5_drz.fits')\n",
    "    data[2,:,:] = cut(ra1[i],dec1[i],32,'/Users/shemmati/Desktop/GOODS/goodss_all_acs_wfc_f775w_060mas_v1.5_drz.fits')\n",
    "    data[3,:,:] = cut(ra1[i],dec1[i],32,'/Users/shemmati/Desktop/GOODS/goodss_all_acs_wfc_f814w_060mas_v1.5_drz.fits')\n",
    "    data[4,:,:] = cut(ra1[i],dec1[i],32,'/Users/shemmati/Desktop/GOODS/goodss_all_acs_wfc_f850l_060mas_v1.5_drz.fits')\n",
    "    data[5,:,:] = cut(ra1[i],dec1[i],32,'/Users/shemmati/Desktop/GOODS/goodss_all_wfc3_ir_f125w_060mas_v1.0_drz.fits')\n",
    "    data[6,:,:] = cut(ra1[i],dec1[i],32,'/Users/shemmati/Desktop/GOODS/goodss_all_wfc3_ir_f160w_060mas_v1.0_drz.fits')\n",
    "\n",
    "    for chi in range(7):\n",
    "        s = ndimage.rotate(data[chi,:,:],0,mode='nearest',reshape=False)\n",
    "        da = np.arcsinh(s)\n",
    "        pash = (255.0 / (da.max()+0.1) * (da - da.min())).astype(np.uint8)\n",
    "        pashe[chi,:,:] = tfms(pash)\n",
    "\n",
    "    # save the image and calculate the mean so far\n",
    "    hdf5_file[\"test_img\"][i, ...] = pashe\n",
    "\n",
    "hdf5_file.close()"
   ]
  },
  {
   "cell_type": "code",
   "execution_count": null,
   "metadata": {},
   "outputs": [],
   "source": [
    "import torch\n",
    "from galaxy_hdf5loader import galaxydata\n",
    "\n",
    "dataset = galaxydata('Sample_train.hdf5')\n",
    "assert dataset\n",
    "dataloader = torch.utils.data.DataLoader(dataset, batch_size=1,shuffle=True, num_workers=int(0))\n",
    "\n",
    "inputs, classes = next(iter(dataloader))  \n",
    "real_cpu = inputs.to('cpu')\n",
    "ajab = real_cpu.detach()\n",
    "ajab = ajab.cpu()"
   ]
  },
  {
   "cell_type": "code",
   "execution_count": null,
   "metadata": {},
   "outputs": [],
   "source": [
    "plt.figure(figsize=(14,3))\n",
    "for i in range(7):\n",
    "    plt.subplot(1,7,i+1) \n",
    "    plt.imshow(ajab[0,i,:,:],origin='lower')\n",
    "    plt.axis('off')\n"
   ]
  },
  {
   "cell_type": "code",
   "execution_count": null,
   "metadata": {},
   "outputs": [],
   "source": []
  }
 ],
 "metadata": {
  "kernelspec": {
   "display_name": "Python 3",
   "language": "python",
   "name": "python3"
  },
  "language_info": {
   "codemirror_mode": {
    "name": "ipython",
    "version": 3
   },
   "file_extension": ".py",
   "mimetype": "text/x-python",
   "name": "python",
   "nbconvert_exporter": "python",
   "pygments_lexer": "ipython3",
   "version": "3.7.4"
  }
 },
 "nbformat": 4,
 "nbformat_minor": 4
}

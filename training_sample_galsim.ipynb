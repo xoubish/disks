{
 "cells": [
  {
   "cell_type": "markdown",
   "metadata": {},
   "source": [
    "## Training data from Galsim\n",
    "\n",
    "By Shooby Aug 26th"
   ]
  },
  {
   "cell_type": "code",
   "execution_count": 25,
   "metadata": {},
   "outputs": [],
   "source": [
    "import galsim\n",
    "import numpy as np\n",
    "from PIL import Image\n",
    "\n",
    "import matplotlib.pyplot as plt"
   ]
  },
  {
   "cell_type": "code",
   "execution_count": 390,
   "metadata": {},
   "outputs": [],
   "source": [
    "def galsim_clumpy_disk(maxclumps,plot_it = 'yes'):\n",
    "    '''Returns a 64*64 image array of a disk galaxy similar to HST ACS'''\n",
    "    random_seed = np.random.randint(1,10000)\n",
    "    sky_level = 1.e6*np.abs(np.random.normal(1,0.02))     # ADU / arcsec^2\n",
    "    pixel_scale = 0.06                                   # arcsec / pixel  (size units in input catalog are pixels)\n",
    "    gal_flux = 1.e6*np.abs(np.random.normal(1,10))       # arbitrary choice, makes nice (not too) noisy images\n",
    "    gal_g1 = np.random.normal(0.01,0.02)                \n",
    "    gal_g2 = np.random.normal(0.01,0.02)                   \n",
    "\n",
    "\n",
    "    bulge_frac       = np.abs(np.random.normal(0.1,0.05))\n",
    "    disk_frac        = 1.0 - bulge_frac\n",
    "    knot_frac        = np.abs(np.random.normal(0.3,0.05))\n",
    "    smooth_disk_frac = disk_frac-knot_frac\n",
    "    n_knots = np.abs(np.random.randint(1,maxclumps))\n",
    "    hlr = np.abs(np.random.normal(0.3,0.1))\n",
    "    hlr_knots = np.abs(hlr - np.abs(np.random.normal(0.08,0.02)))\n",
    "    hlr_bulge = np.abs(np.random.normal(0.05,0.03))\n",
    "\n",
    "    rng = galsim.BaseDeviate(random_seed+1)\n",
    "    psf = galsim.Moffat(beta=3.5, fwhm=0.2, trunc=5.70)\n",
    "\n",
    "\n",
    "    smooth_disk = galsim.Exponential(flux=smooth_disk_frac, half_light_radius=hlr)\n",
    "    knots = galsim.RandomWalk(n_knots, half_light_radius=hlr_knots, flux=knot_frac, rng=rng)\n",
    "    disk = galsim.Add([smooth_disk, knots])\n",
    "    disk = disk.shear(e1=np.random.uniform(-0.5,0.5), e2=np.random.uniform(-0.5,0.5))\n",
    "    bulge = galsim.DeVaucouleurs(flux=bulge_frac, half_light_radius=hlr_bulge)\n",
    "    bulge = bulge.shear(e1=np.random.normal(0.0,0.1), e2=np.random.normal(0,0.1))\n",
    "    gal = galsim.Add([disk, bulge])\n",
    "    gal = gal.withFlux(gal_flux)\n",
    "    gal = gal.shear(g1=gal_g1, g2=gal_g2)\n",
    "\n",
    "    final = galsim.Convolve([psf, gal])\n",
    "\n",
    "    # Draw the profile\n",
    "    image = galsim.ImageF(64, 64)\n",
    "    final.drawImage(image, scale=pixel_scale)\n",
    "    image.addNoise(galsim.PoissonNoise(rng, sky_level * pixel_scale**2))\n",
    "    arr = np.log10(image.array)\n",
    "    arr[np.isnan(arr)]=0\n",
    "    if plot_it == 'yes':\n",
    "        plt.imshow(arr,origin='lower')\n",
    "        plt.colorbar()\n",
    "    return arr"
   ]
  },
  {
   "cell_type": "code",
   "execution_count": 394,
   "metadata": {},
   "outputs": [
    {
     "name": "stderr",
     "output_type": "stream",
     "text": [
      "/Users/shemmati/anaconda3/lib/python3.7/site-packages/ipykernel_launcher.py:40: RuntimeWarning: invalid value encountered in log10\n"
     ]
    },
    {
     "data": {
      "image/png": "[encoded data removed]",
      "text/plain": [
       "<Figure size 432x288 with 2 Axes>"
      ]
     },
     "metadata": {
      "needs_background": "light"
     },
     "output_type": "display_data"
    }
   ],
   "source": [
    "a = galsim_clumpy_disk(15,plot_it='yes')\n"
   ]
  },
  {
   "cell_type": "code",
   "execution_count": 395,
   "metadata": {},
   "outputs": [
    {
     "name": "stderr",
     "output_type": "stream",
     "text": [
      "/Users/shemmati/anaconda3/lib/python3.7/site-packages/ipykernel_launcher.py:40: RuntimeWarning: invalid value encountered in log10\n",
      "/Users/shemmati/anaconda3/lib/python3.7/site-packages/ipykernel_launcher.py:40: RuntimeWarning: divide by zero encountered in log10\n"
     ]
    }
   ],
   "source": [
    "im = np.zeros([64,64])\n",
    "for boz in range(5000):\n",
    "    data = galsim_clumpy_disk(10, plot_it = 'no')\n",
    "    rescaled = (255.0 / (data.max()+0.5) * (data)).astype(np.uint8)\n",
    "    im = Image.fromarray(rescaled)\n",
    "    im.save('images/training_images/1/'+str(boz)+'.jpg')\n",
    "    \n",
    "    data = galsim_clumpy_disk(3, plot_it = 'no')\n",
    "    rescaled = (255.0 / (data.max()+0.5) * (data)).astype(np.uint8)\n",
    "    im = Image.fromarray(rescaled)\n",
    "    im.save('images/training_images/2/'+str(boz)+'.jpg')\n",
    "  "
   ]
  },
  {
   "cell_type": "code",
   "execution_count": 396,
   "metadata": {},
   "outputs": [
    {
     "name": "stderr",
     "output_type": "stream",
     "text": [
      "/Users/shemmati/anaconda3/lib/python3.7/site-packages/ipykernel_launcher.py:40: RuntimeWarning: invalid value encountered in log10\n",
      "/Users/shemmati/anaconda3/lib/python3.7/site-packages/ipykernel_launcher.py:40: RuntimeWarning: divide by zero encountered in log10\n"
     ]
    }
   ],
   "source": [
    "im = np.zeros([64,64])\n",
    "for boz in range(2000):\n",
    "    data = galsim_clumpy_disk(10, plot_it = 'no')\n",
    "    rescaled = (255.0 / (data.max()+0.5) * (data)).astype(np.uint8)\n",
    "    im = Image.fromarray(rescaled)\n",
    "    im.save('images/test_images/1/'+str(boz)+'.jpg')\n",
    "    \n",
    "    data = galsim_clumpy_disk(3, plot_it = 'no')\n",
    "    rescaled = (255.0 / (data.max()+0.5) * (data)).astype(np.uint8)\n",
    "    im = Image.fromarray(rescaled)\n",
    "    im.save('images/test_images/2/'+str(boz)+'.jpg')\n",
    " "
   ]
  },
  {
   "cell_type": "code",
   "execution_count": null,
   "metadata": {},
   "outputs": [],
   "source": []
  }
 ],
 "metadata": {
  "kernelspec": {
   "display_name": "Python 3",
   "language": "python",
   "name": "python3"
  },
  "language_info": {
   "codemirror_mode": {
    "name": "ipython",
    "version": 3
   },
   "file_extension": ".py",
   "mimetype": "text/x-python",
   "name": "python",
   "nbconvert_exporter": "python",
   "pygments_lexer": "ipython3",
   "version": "3.7.3"
  }
 },
 "nbformat": 4,
 "nbformat_minor": 2
}

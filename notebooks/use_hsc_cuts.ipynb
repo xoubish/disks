{
 "cells": [
  {
   "cell_type": "markdown",
   "metadata": {},
   "source": [
    "## Lets try things on Real HSC now ...\n",
    "Added by Shooby Sep 25 <br>\n",
    "Last edited Sep 25th"
   ]
  },
  {
   "cell_type": "code",
   "execution_count": 2,
   "metadata": {},
   "outputs": [],
   "source": [
    "from __future__ import print_function\n",
    "import argparse\n",
    "import os\n",
    "import random\n",
    "import torch\n",
    "import torch.nn as nn\n",
    "import torch.nn.parallel\n",
    "import torch.backends.cudnn as cudnn\n",
    "import torch.optim as optim\n",
    "import torch.utils.data\n",
    "import torchvision.datasets as dset\n",
    "import torchvision.transforms as transforms\n",
    "import torchvision.utils as vutils\n",
    "import torch.nn.functional as F\n",
    "from photutils import create_matching_kernel\n",
    "from skimage.transform import downscale_local_mean\n",
    "from scipy.ndimage import zoom\n",
    "import matplotlib.pyplot as plt\n",
    "import astropy.io.fits as pyfits\n",
    "import numpy as np\n",
    "\n",
    "import astropy.wcs as wcs\n",
    "from astropy import units as u\n",
    "from astropy.coordinates import SkyCoord\n",
    "from scipy import ndimage\n",
    "from PIL import Image\n",
    "\n",
    "from peak_finding import (\n",
    "    PeakFinder,\n",
    "    find_peaks,\n",
    ")\n",
    "%matplotlib inline"
   ]
  },
  {
   "cell_type": "code",
   "execution_count": 3,
   "metadata": {},
   "outputs": [
    {
     "data": {
      "text/plain": [
       "<All keys matched successfully>"
      ]
     },
     "execution_count": 3,
     "metadata": {},
     "output_type": "execute_result"
    }
   ],
   "source": [
    "def radec2xy(ra,dec,wc):\n",
    "    coords = SkyCoord(ra,dec, unit='deg')\n",
    "    a=wcs.utils.skycoord_to_pixel(coords, wc, origin=0,mode=u'wcs')\n",
    "    return a[0],a[1]\n",
    "    \n",
    "def cut(ra,dec,andaze,filename):\n",
    "    '''gets coordinates of the galaxy and the filter to return a cutout\n",
    "    (also called a postage stamp) of the galaxy with given size'''\n",
    "    hdr = pyfits.getheader(filename,1)\n",
    "    w = wcs.WCS(hdr)\n",
    "    x,y=radec2xy(ra,dec,w)\n",
    "    x,y=np.int(x),np.int(y)\n",
    "    im=pyfits.getdata(filename)[y-andaze:y+andaze,x-andaze:x+andaze]\n",
    "    return im\n",
    "\n",
    "class Shoobygen(nn.Module):\n",
    "\n",
    "    def __init__(self,ngpu):\n",
    "        super(Shoobygen, self).__init__()\n",
    "        self.ngpu = ngpu\n",
    "        self.main = nn.Sequential(\n",
    "            \n",
    "            nn.Conv2d(1, ngf * 4, 7, 2, 2, bias=False),\n",
    "            nn.BatchNorm2d(ngf * 4),\n",
    "            nn.LeakyReLU(0.2, inplace=True),\n",
    "            \n",
    "            \n",
    "            nn.ConvTranspose2d( ngf*4, ngf * 2, 6, 3, 2,dilation=2, bias=False),\n",
    "            nn.BatchNorm2d(ngf * 2),\n",
    "            nn.ReLU(True),\n",
    "            \n",
    "            nn.ConvTranspose2d(ngf * 2, nc, 3, 2, 2, bias=False),\n",
    "            nn.Tanh()\n",
    "        )\n",
    "\n",
    "    def forward(self, input):\n",
    "        if input.is_cuda and self.ngpu > 1:\n",
    "            output = nn.parallel.data_parallel(self.main, input, range(self.ngpu))\n",
    "            output1 = output[:,:,:,:]\n",
    "\n",
    "        else:\n",
    "            output = self.main(input)\n",
    "            output1 = output[:,:,:,:]\n",
    "\n",
    "        return output1\n",
    "\n",
    "ngpu,ngf,nc,device = 1,64,1,'cpu'\n",
    "netS = Shoobygen(ngpu).to(device)\n",
    "netS.load_state_dict(torch.load('../trained_weights/netG_blended_700.pth',map_location='cpu'))\n"
   ]
  },
  {
   "cell_type": "code",
   "execution_count": 4,
   "metadata": {},
   "outputs": [
    {
     "name": "stdout",
     "output_type": "stream",
     "text": [
      "574\n"
     ]
    }
   ],
   "source": [
    "sub =  np.genfromtxt('../source-extractor/subaru.cat')\n",
    "sel = (sub[:,3]<26)\n",
    "ra, dec = sub[sel,1],sub[sel,2]\n",
    "print(len(ra))"
   ]
  },
  {
   "cell_type": "code",
   "execution_count": 5,
   "metadata": {},
   "outputs": [
    {
     "name": "stdout",
     "output_type": "stream",
     "text": [
      "560\n"
     ]
    },
    {
     "name": "stderr",
     "output_type": "stream",
     "text": [
      "/opt/anaconda3/lib/python3.7/site-packages/ipykernel_launcher.py:14: UserWarning: To copy construct from a tensor, it is recommended to use sourceTensor.clone().detach() or sourceTensor.clone().detach().requires_grad_(True), rather than torch.tensor(sourceTensor).\n",
      "  \n"
     ]
    },
    {
     "data": {
      "text/plain": [
       "<matplotlib.image.AxesImage at 0x13ef5bd50>"
      ]
     },
     "execution_count": 5,
     "metadata": {},
     "output_type": "execute_result"
    },
    {
     "data": {
      "image/png": "[encoded data removed]",
      "text/plain": [
       "<Figure size 432x288 with 1 Axes>"
      ]
     },
     "metadata": {
      "needs_background": "light"
     },
     "output_type": "display_data"
    }
   ],
   "source": [
    "n=np.random.randint(len(ra)-1)\n",
    "print(n)\n",
    "data = cut(ra[n],dec[n],11,'../source-extractor/cutout-HSC-I-9813-s16a_deep-190924-232349.fits')\n",
    "khar = data.byteswap().newbyteorder()\n",
    "im = khar[:-1,:-1]\n",
    "\n",
    "im = (255.0 / (im.max()+0.5) * (im)).astype(np.uint8)\n",
    "#### images need to be normalized before seeing GAN#########\n",
    "# from torchvision import transforms\n",
    "# transforms.normalize(0.5,0.5)(gals)\n",
    "tfms = transforms.Compose([transforms.ToTensor(),transforms.Normalize((0.5,), (0.5,))])\n",
    "im = tfms(im)\n",
    "gals = np.repeat(im[:,:,:,np.newaxis],1,axis = 3)\n",
    "gals =torch.tensor(gals, device=\"cpu\").float()\n",
    "gals = gals.permute(3,0,1,2)\n",
    "plt.imshow(gals[0,0,:,:],origin='lower')"
   ]
  },
  {
   "cell_type": "code",
   "execution_count": null,
   "metadata": {},
   "outputs": [],
   "source": [
    "real_cpu = gals.to(device)\n",
    "\n",
    "psf_hsc = pyfits.getdata('../psfs/PSF_subaru_i.fits')\n",
    "num = find_peaks(image=data, kernel = psf_hsc,thresh=np.std(data)/2)\n",
    "x,y = [],[]\n",
    "for boz in range(len(num)):\n",
    "    if (3<num[boz][0]<18)&(3<num[boz][1]<18):\n",
    "        x.append(num[boz][0])\n",
    "        y.append(num[boz][1])\n",
    "\n",
    "plt.figure(figsize=(10,3.5))\n",
    "plt.subplot(1,2,1)\n",
    "plt.imshow(data,origin='lower')\n",
    "plt.plot(y,x,'ro')\n",
    "plt.colorbar()\n",
    "plt.text(1,1,'HSC',color='y',size=20)\n",
    "\n",
    "\n",
    "fake = netS(real_cpu)\n",
    "fd = fake.detach()\n",
    "psf = pyfits.getdata('psf_i.fits')\n",
    "new_high = np.array(fd[0,0,:,:])\n",
    "\n",
    "num = find_peaks(image=new_high, kernel = psf,thresh=np.std(new_high))\n",
    "x,y = [],[]\n",
    "for boz in range(len(num)):\n",
    "    if (10<num[boz][0]<50)&(10<num[boz][1]<50):\n",
    "        x.append(num[boz][0])\n",
    "        y.append(num[boz][1])\n",
    "        \n",
    "plt.subplot(1,2,2)\n",
    "plt.imshow(new_high,origin='lower')\n",
    "plt.plot(y,x,'ro')\n",
    "plt.colorbar()\n",
    "plt.text(1,1,'to HST',color='y',size=20)\n",
    "\n",
    "plt.tight_layout()"
   ]
  },
  {
   "cell_type": "code",
   "execution_count": null,
   "metadata": {},
   "outputs": [],
   "source": []
  }
 ],
 "metadata": {
  "kernelspec": {
   "display_name": "Python 3",
   "language": "python",
   "name": "python3"
  },
  "language_info": {
   "codemirror_mode": {
    "name": "ipython",
    "version": 3
   },
   "file_extension": ".py",
   "mimetype": "text/x-python",
   "name": "python",
   "nbconvert_exporter": "python",
   "pygments_lexer": "ipython3",
   "version": "3.7.4"
  }
 },
 "nbformat": 4,
 "nbformat_minor": 4
}
